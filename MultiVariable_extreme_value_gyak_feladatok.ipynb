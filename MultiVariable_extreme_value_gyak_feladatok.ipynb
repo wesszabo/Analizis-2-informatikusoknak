{
  "nbformat": 4,
  "nbformat_minor": 0,
  "metadata": {
    "colab": {
      "name": "MultiVariable extreme value gyak feladatok.ipynb",
      "provenance": [],
      "collapsed_sections": [
        "Ta81LxJp0J7G"
      ],
      "include_colab_link": true
    },
    "kernelspec": {
      "name": "python3",
      "display_name": "Python 3"
    }
  },
  "cells": [
    {
      "cell_type": "markdown",
      "metadata": {
        "id": "view-in-github",
        "colab_type": "text"
      },
      "source": [
        "<a href=\"https://colab.research.google.com/github/wesszabo/Analizis-2-informatikusoknak/blob/Gyakorlat/MultiVariable_extreme_value_gyak_feladatok.ipynb\" target=\"_parent\"><img src=\"https://colab.research.google.com/assets/colab-badge.svg\" alt=\"Open In Colab\"/></a>"
      ]
    },
    {
      "cell_type": "markdown",
      "metadata": {
        "id": "jFELmKaHGe3m",
        "colab_type": "toc"
      },
      "source": [
        ">[Table of Contents](#scrollTo=uSvfRB-3kuYe)\n",
        "\n",
        ">[Szélsőérték számítás](#scrollTo=s0fYjtEIktby)\n",
        "\n",
        ">[FELADATOK](#scrollTo=la6ckSZ5y_BT)\n",
        "\n",
        ">>[Feladat 1. Legyen $f(x,y):=4x^2+9y^2+8x-36y+24$. Határozzuk meg $f$ lokális szélsőértékeit.](#scrollTo=JNE8E_oZzDPm)\n",
        "\n",
        ">>[Feladatok 2. Legyen $f(x,y):=\\dfrac{1}{3}x^3+y^2+2xy-6x-3y+4$. Határozzuk meg $f$ lokális szélsőértékeit.](#scrollTo=Ta81LxJp0J7G)\n",
        "\n",
        ">>[Feladat 3. Legyen $f(x,y):=x^3+2xy-6x-4y^2$. Határozzuk meg $f$ lokális szélsőértékeit.](#scrollTo=uefleBJ000J_)\n",
        "\n",
        ">>[Feladat 4. Legyen $f(x,y):=2xy+3x+4y$. Határozzuk meg $f$ lokális szélsőértékeit.](#scrollTo=qjrAKU-E1QZN)\n",
        "\n",
        ">>[Feladat 5. Legyen $f(x,y):=3x^2-2xy+y^2-8y$. Határozzuk meg $f$ lokális szélsőértékeit.](#scrollTo=JEMkIh4r2UTc)\n",
        "\n",
        ">>[Feladat 6. Legyen $f(x,y):=y^2+xy+3y+2x+3$. Határozzuk meg $f$ lokális szélsőértékeit.](#scrollTo=fe97AEj63lD8)\n",
        "\n",
        ">>[Feladat 7. Legyen $f(x,y):=x^2+2y^2-x^2y$. Határozzuk meg $f$ lokális szélsőértékeit.](#scrollTo=Yb_MN8T86hxN)\n",
        "\n",
        ">>[Feladat 8. Legyen $f(x,y):=x^2+10xy+y^2$. Határozzuk meg $f$ lokális szélsőértékeit.](#scrollTo=hHXeHpK07bsb)\n",
        "\n"
      ]
    },
    {
      "cell_type": "code",
      "metadata": {
        "id": "nKoD9r5B6rsv",
        "colab_type": "code",
        "colab": {}
      },
      "source": [
        "###################  MODULOK "
      ],
      "execution_count": 0,
      "outputs": []
    },
    {
      "cell_type": "code",
      "metadata": {
        "id": "vsd3_xboSWVy",
        "colab_type": "code",
        "colab": {}
      },
      "source": [
        "from sympy import *\n",
        "ip = get_ipython()\n",
        "ibe = ip.configurables[-1]\n",
        "ibe.figure_formats = { 'pdf', 'png'}"
      ],
      "execution_count": 0,
      "outputs": []
    },
    {
      "cell_type": "code",
      "metadata": {
        "hide_input": false,
        "scrolled": false,
        "id": "ChG-9kIXSWV0",
        "colab_type": "code",
        "colab": {}
      },
      "source": [
        "%matplotlib inline\n",
        "import matplotlib.pyplot as plt\n",
        "from mpl_toolkits import mplot3d\n",
        "from IPython.display import HTML,Latex, display\n",
        "import requests\n",
        "import numpy as np\n",
        "import sympy as sym\n",
        "from sympy.solvers.solveset import solveset_real, nonlinsolve\n",
        "from sympy import exp, log, sin, cos, sqrt, Matrix, Function, limit, diff,\\\n",
        "symbols, hessian, latex, simplify\n",
        "from scipy import optimize\n",
        "#from numpy import pi, sin, cos\n",
        "import plotly.graph_objects as go\n",
        "from chart_studio.plotly import plot, iplot"
      ],
      "execution_count": 0,
      "outputs": []
    },
    {
      "cell_type": "code",
      "metadata": {
        "id": "4Afae6ce3qtr",
        "colab_type": "code",
        "colab": {}
      },
      "source": [
        "import plotly.io as pio\n",
        "pio.renderers.default = 'colab'"
      ],
      "execution_count": 0,
      "outputs": []
    },
    {
      "cell_type": "code",
      "metadata": {
        "id": "CgM88bZI60Oe",
        "colab_type": "code",
        "colab": {}
      },
      "source": [
        "#####################  BEÁLLÍTÁSOK "
      ],
      "execution_count": 0,
      "outputs": []
    },
    {
      "cell_type": "code",
      "metadata": {
        "scrolled": true,
        "id": "Ek2C2j2dSWV2",
        "colab_type": "code",
        "colab": {}
      },
      "source": [
        "# Sympy to print formula not TeX\n",
        "from sympy import init_printing\n",
        "def custom_latex_printer(exp,**options):\n",
        "    from google.colab.output._publish import javascript\n",
        "    url = \"https://cdnjs.cloudflare.com/ajax/libs/mathjax/2.7.3/latest.js?config=default\"\n",
        "    javascript(url=url)\n",
        "    return sym.printing.latex(exp,**options)\n",
        "init_printing(use_latex=\"mathjax\",latex_printer=custom_latex_printer)"
      ],
      "execution_count": 0,
      "outputs": []
    },
    {
      "cell_type": "code",
      "metadata": {
        "scrolled": true,
        "id": "vFq016MLSWV4",
        "colab_type": "code",
        "colab": {}
      },
      "source": [
        "x, y, z, alpha, beta = symbols('x y z alpha beta', real = True)\n",
        "a, m, r, theta = symbols('a m r theta', real = True) # parameters\n",
        "from sympy.abc import rho, phi"
      ],
      "execution_count": 0,
      "outputs": []
    },
    {
      "cell_type": "code",
      "metadata": {
        "id": "yA3PRk0OKFS4",
        "colab_type": "code",
        "colab": {}
      },
      "source": [
        "# Jupyter to print the results for any variable or statement on it’s own line"
      ],
      "execution_count": 0,
      "outputs": []
    },
    {
      "cell_type": "code",
      "metadata": {
        "id": "_hvwpOfRJz5A",
        "colab_type": "code",
        "colab": {}
      },
      "source": [
        "from IPython.core.interactiveshell import InteractiveShell\n",
        "InteractiveShell.ast_node_interactivity = \"all\""
      ],
      "execution_count": 0,
      "outputs": []
    },
    {
      "cell_type": "code",
      "metadata": {
        "id": "JjNFbAGAW_Cn",
        "colab_type": "code",
        "colab": {}
      },
      "source": [
        "############## TeX macros"
      ],
      "execution_count": 0,
      "outputs": []
    },
    {
      "cell_type": "markdown",
      "metadata": {
        "id": "XUqvcFhrXhXl",
        "colab_type": "text"
      },
      "source": [
        "$\\newcommand{\\grad}{\\mathrm{grad}}$\n",
        "$\\newcommand{\\vec}[1]{\\mathbf{#1}}$"
      ]
    },
    {
      "cell_type": "markdown",
      "metadata": {
        "colab_type": "text",
        "id": "uSvfRB-3kuYe"
      },
      "source": [
        "# Table of Contents"
      ]
    },
    {
      "cell_type": "markdown",
      "metadata": {
        "collapsed": true,
        "colab_type": "text",
        "id": "s0fYjtEIktby"
      },
      "source": [
        "# Szélsőérték számítás"
      ]
    },
    {
      "cell_type": "code",
      "metadata": {
        "id": "N6aEJgeBB8Qj",
        "colab_type": "code",
        "colab": {}
      },
      "source": [
        "##############   SEGÉDFÜGGVÉNYEK"
      ],
      "execution_count": 0,
      "outputs": []
    },
    {
      "cell_type": "code",
      "metadata": {
        "id": "YdieuNaICBqo",
        "colab_type": "code",
        "colab": {}
      },
      "source": [
        "##############  GRADIENT "
      ],
      "execution_count": 0,
      "outputs": []
    },
    {
      "cell_type": "code",
      "metadata": {
        "id": "A72uEQ4Xso-0",
        "colab_type": "code",
        "cellView": "both",
        "colab": {}
      },
      "source": [
        "#@title\n",
        "def gradient(func, varlist):\n",
        "    grad = [diff(func, var) for var in varlist]\n",
        "    return grad        "
      ],
      "execution_count": 0,
      "outputs": []
    },
    {
      "cell_type": "code",
      "metadata": {
        "id": "JUjONPl6cMs5",
        "colab_type": "code",
        "colab": {}
      },
      "source": [
        "#############  GRAFIKA"
      ],
      "execution_count": 0,
      "outputs": []
    },
    {
      "cell_type": "code",
      "metadata": {
        "id": "-MHOtGYZcMw6",
        "colab_type": "code",
        "colab": {}
      },
      "source": [
        "def draw_surface(func, x0=0.0, y0=0.0):\n",
        "    xx = np.linspace(x0 - 3, x0 + 3, 100)\n",
        "    yy = np.linspace(x0 - 3, x0 + 3, 100)\n",
        "    X, Y = np.meshgrid(xx,yy)\n",
        "    func_lambda = lambdify((x, y), func, modules='numpy')\n",
        "    #z = func_lambda(xx,xx)\n",
        "    Z = func_lambda(X, Y)\n",
        "    fig = go.Figure(data=[\n",
        "        go.Surface(\n",
        "            x=xx, y=yy, z=Z,\n",
        "            contours_z=dict(show=True, \n",
        "                            usecolormap=True,\n",
        "                            highlightcolor=\"limegreen\", \n",
        "                            project_z=True)\n",
        "            )\n",
        "        ])\n",
        "    func_latex = '$\\displaystyle{f(x,y)='+latex(func)+'}$'\n",
        "    fig.update_layout(title=dict(\n",
        "                    text = func_latex,\n",
        "                    font=dict(size=20)),\n",
        "                    scene_camera_eye=dict(x=1.87, y=0.88, z=0.64),\n",
        "                    width=600, height=600, \n",
        "                    margin=dict(l=65, r=80, b=65, t=70),\n",
        "                    legend=go.layout.Legend(\n",
        "            x=0,\n",
        "            y=1,\n",
        "            traceorder=\"normal\",\n",
        "            font=dict(\n",
        "                family=\"sans-serif\",\n",
        "                size=16,\n",
        "                color=\"black\"\n",
        "            ),\n",
        "            bgcolor=\"LightSteelBlue\",\n",
        "            bordercolor=\"Black\",\n",
        "            borderwidth=2\n",
        "        )\n",
        "    )\n",
        "    #fig.show(renderer=\"notebook_connected\")\n",
        "    return fig"
      ],
      "execution_count": 0,
      "outputs": []
    },
    {
      "cell_type": "code",
      "metadata": {
        "id": "XCllW5oryw7r",
        "colab_type": "code",
        "colab": {}
      },
      "source": [
        "##############  SZÉLSŐÉRTÉK KERESÉS"
      ],
      "execution_count": 0,
      "outputs": []
    },
    {
      "cell_type": "code",
      "metadata": {
        "colab_type": "code",
        "id": "8xEHzQj9d3i8",
        "colab": {}
      },
      "source": [
        "#func = x**3/3 +y**2 + 2 * x * y - 6 * x - 3 * y + 4\n",
        "func = x**3 + 2 * x * y - 6 * x - 4 * y**2\n",
        "#func = x**2 + y**3 -x*y+ z**2\n",
        "#func = x**2 -y**3\n",
        "#func_latex = \n",
        "varlist = [x, y]\n",
        "dim = len(varlist)\n",
        "grad_list = gradient(func, varlist)\n",
        "grad_func = Matrix(grad_list)\n",
        "hesse_matrix = hessian(func, varlist)\n",
        "print(f'{func} szélsőértékei')\n",
        "print(\"grad(f) : \")\n",
        "grad_func\n",
        "Eq_list = ['NaN' for _ in range(dim)]\n",
        "roots = list(nonlinsolve(grad_list, varlist))\n",
        "if len(roots) == 0:\n",
        "    print(f'A {func} függvénynek nincs lokális szélsőértéke')\n",
        "    draw_surface(func)\n",
        "    exit\n",
        "hesse_matrix = hessian(func, varlist)\n",
        "print(\"Hess(f) : \")\n",
        "hesse_matrix\n",
        "print(\"A\")\n",
        "Eq_list = ['NaN' for _ in range(dim)]\n",
        "for i in range(dim):\n",
        "    Eq_list[i] = Eq(grad_func[i])\n",
        "    Eq_list[i]\n",
        "print(\"egyenletrendszerből adódik, hogy\")\n",
        "number_of_roots = len(roots)\n",
        "for j in range(number_of_roots):\n",
        "    print(f'\\n {j + 1}. kritikus pont: ')\n",
        "    for k in range(dim):\n",
        "        print(f'               {varlist[k]} = {roots[j][k]}')\n",
        "    print('\\nA Hesse mátrix a kritikus pontban:')\n",
        "    hesse = hesse_matrix.subs([(varlist[k], roots[j][k]) for k in range(len(varlist))])\n",
        "    hesse\n",
        "    print(\"A Hesse mátrix aldeterminánsai: \")\n",
        "    aldet = ([hesse[0:m, 0:m].det() for m in range(1, dim+1)])\n",
        "    aldet\n",
        "    print(\"Előjelei: \")\n",
        "    aldet_sig_num = np.sign(aldet)\n",
        "    aldet_sig_str = [\"Nan\" for _ in range(dim) ]\n",
        "    for j in range(0,dim):\n",
        "        if aldet_sig_num[j] == -1:\n",
        "            aldet_sig_str[j] = \"-\"\n",
        "        elif aldet_sig_num[j] == 1:\n",
        "            aldet_sig_str[j] = \"+\"\n",
        "        else:\n",
        "            aldet_sig_str[j] = \"0\"\n",
        "    print(\"            \", aldet_sig_str)\n",
        "    aldet_sig_str_odd = aldet_sig_str[0::2]\n",
        "    aldet_sig_str_even = aldet_sig_str[1::2]\n",
        "    if sum(aldet_sig_num) == dim:\n",
        "        print(f'\\n A {func} függvénynek lokális minimuma van.')\n",
        "        draw_surface(func, roots[j][0].evalf(), roots[j][1].evalf())\n",
        "        #return\n",
        "    elif (aldet_sig_str_odd.count(\"-\") == len(aldet_sig_str_odd)) \\\n",
        "        and (aldet_sig_str_even.count(\"+\") == len(aldet_sig_str_even)):\n",
        "        print(f'\\n A {func} függvénynek lokális maximuma van.')\n",
        "        #draw_surface(func, roots[j][0].evalf(), roots[j][1].evalf())\n",
        "        #draw_surface(func, -1.0, 0.0)\n",
        "        #return\n",
        "    elif ((\"+\" in aldet_sig_str) or (\"-\" in aldet_sig_str)) \\\n",
        "        and (\"0\" not in aldet_sig_str):\n",
        "        print(f'\\n A {func} függvénynek nyeregpontja van.')\n",
        "        #draw_surface(func, roots[j][0].evalf(), roots[j][1].evalf())\n",
        "        #return\n",
        "    else:\n",
        "        print(\"\\n További vizsgálatra van szükség.\")\n",
        "        #draw_surface(func, roots[j][0].evalf(), roots[j][1].evalf())"
      ],
      "execution_count": 0,
      "outputs": []
    },
    {
      "cell_type": "code",
      "metadata": {
        "id": "LSqmlrTVw-dn",
        "colab_type": "code",
        "colab": {
          "base_uri": "https://localhost:8080/",
          "height": 34
        },
        "outputId": "10df44b8-7afb-4b6a-b799-909c76a219e7"
      },
      "source": [
        "type(roots[0][0].evalf())"
      ],
      "execution_count": 13,
      "outputs": [
        {
          "output_type": "execute_result",
          "data": {
            "text/plain": [
              "sympy.core.numbers.Float"
            ]
          },
          "metadata": {
            "tags": []
          },
          "execution_count": 13
        }
      ]
    },
    {
      "cell_type": "code",
      "metadata": {
        "id": "JyPCXifTyh4K",
        "colab_type": "code",
        "colab": {}
      },
      "source": [
        ""
      ],
      "execution_count": 0,
      "outputs": []
    },
    {
      "cell_type": "markdown",
      "metadata": {
        "id": "la6ckSZ5y_BT",
        "colab_type": "text"
      },
      "source": [
        "# FELADATOK"
      ]
    },
    {
      "cell_type": "markdown",
      "metadata": {
        "id": "JNE8E_oZzDPm",
        "colab_type": "text"
      },
      "source": [
        "## Feladat 1. Legyen $f(x,y):=4x^2+9y^2+8x-36y+24$. Határozzuk meg $f$ lokális szélsőértékeit."
      ]
    },
    {
      "cell_type": "code",
      "metadata": {
        "colab_type": "code",
        "outputId": "c98ec850-5a41-49c9-be2f-61200fd51477",
        "id": "upelufJVynhx",
        "colab": {
          "base_uri": "https://localhost:8080/",
          "height": 616
        }
      },
      "source": [
        "func = 4*x**2+9*y**2+8*x-36*y+24\n",
        "#func_latex = \n",
        "varlist = [x, y]\n",
        "dim = len(varlist)\n",
        "grad_list = gradient(func, varlist)\n",
        "grad_func = Matrix(grad_list)\n",
        "hesse_matrix = hessian(func, varlist)\n",
        "print(f'{func} szélsőértékei')\n",
        "print(\"grad(f) : \")\n",
        "grad_func\n",
        "Eq_list = ['NaN' for _ in range(dim)]\n",
        "roots = list(nonlinsolve(grad_list, varlist))\n",
        "if len(roots) == 0:\n",
        "    print(f'A {func} függvénynek nincs lokális szélsőértéke')\n",
        "    draw_surface(func)\n",
        "    exit\n",
        "hesse_matrix = hessian(func, varlist)\n",
        "print(\"Hess(f) : \")\n",
        "hesse_matrix\n",
        "print(\"A\")\n",
        "Eq_list = ['NaN' for _ in range(dim)]\n",
        "for i in range(dim):\n",
        "    Eq_list[i] = Eq(grad_func[i])\n",
        "    Eq_list[i]\n",
        "print(\"egyenletrendszerből adódik, hogy\")\n",
        "number_of_roots = len(roots)\n",
        "for j in range(number_of_roots):\n",
        "    print(f'\\n {j + 1}. kritikus pont: ')\n",
        "    for k in range(dim):\n",
        "        print(f'               {varlist[k]} = {roots[j][k]}')\n",
        "    print('\\nA Hesse mátrix a kritikus pontban:')\n",
        "    hesse = hesse_matrix.subs([(varlist[k], roots[j][k]) for k in range(len(varlist))])\n",
        "    hesse\n",
        "    print(\"A Hesse mátrix aldeterminánsai: \")\n",
        "    aldet = ([hesse[0:m, 0:m].det() for m in range(1, dim+1)])\n",
        "    aldet\n",
        "    print(\"Előjelei: \")\n",
        "    aldet_sig_num = np.sign(aldet)\n",
        "    aldet_sig_str = [\"Nan\" for _ in range(dim) ]\n",
        "    for j in range(0,dim):\n",
        "        if aldet_sig_num[j] == -1:\n",
        "            aldet_sig_str[j] = \"-\"\n",
        "        elif aldet_sig_num[j] == 1:\n",
        "            aldet_sig_str[j] = \"+\"\n",
        "        else:\n",
        "            aldet_sig_str[j] = \"0\"\n",
        "    print(\"            \", aldet_sig_str)\n",
        "    aldet_sig_str_odd = aldet_sig_str[0::2]\n",
        "    aldet_sig_str_even = aldet_sig_str[1::2]\n",
        "    if sum(aldet_sig_num) == dim:\n",
        "        print(f'\\n A {func} függvénynek lokális minimuma van.')\n",
        "        #draw_surface(func, roots[j][0].evalf(), roots[j][1].evalf())\n",
        "        #return\n",
        "    elif (aldet_sig_str_odd.count(\"-\") == len(aldet_sig_str_odd)) \\\n",
        "        and (aldet_sig_str_even.count(\"+\") == len(aldet_sig_str_even)):\n",
        "        print(f'\\n A {func} függvénynek lokális maximuma van.')\n",
        "        #draw_surface(func, roots[j][0].evalf(), roots[j][1].evalf())\n",
        "        #draw_surface(func, -1.0, 0.0)\n",
        "        #return\n",
        "    elif ((\"+\" in aldet_sig_str) or (\"-\" in aldet_sig_str)) \\\n",
        "        and (\"0\" not in aldet_sig_str):\n",
        "        print(f'\\n A {func} függvénynek nyeregpontja van.')\n",
        "        #draw_surface(func, roots[j][0].evalf(), roots[j][1].evalf())\n",
        "        #return\n",
        "    else:\n",
        "        print(\"\\n További vizsgálatra van szükség.\")\n",
        "        #draw_surface(func, roots[j][0].evalf(), roots[j][1].evalf())"
      ],
      "execution_count": 17,
      "outputs": [
        {
          "output_type": "stream",
          "text": [
            "4*x**2 + 8*x + 9*y**2 - 36*y + 24 szélsőértékei\n",
            "grad(f) : \n"
          ],
          "name": "stdout"
        },
        {
          "output_type": "display_data",
          "data": {
            "text/html": [
              "<script src='https://cdnjs.cloudflare.com/ajax/libs/mathjax/2.7.3/latest.js?config=default'></script>"
            ],
            "text/plain": [
              "<IPython.core.display.HTML object>"
            ]
          },
          "metadata": {
            "tags": []
          }
        },
        {
          "output_type": "execute_result",
          "data": {
            "text/latex": "$$\\left[\\begin{matrix}8 x + 8\\\\18 y - 36\\end{matrix}\\right]$$",
            "text/plain": [
              "⎡ 8⋅x + 8 ⎤\n",
              "⎢         ⎥\n",
              "⎣18⋅y - 36⎦"
            ]
          },
          "metadata": {
            "tags": []
          },
          "execution_count": 17
        },
        {
          "output_type": "stream",
          "text": [
            "Hess(f) : \n"
          ],
          "name": "stdout"
        },
        {
          "output_type": "display_data",
          "data": {
            "text/html": [
              "<script src='https://cdnjs.cloudflare.com/ajax/libs/mathjax/2.7.3/latest.js?config=default'></script>"
            ],
            "text/plain": [
              "<IPython.core.display.HTML object>"
            ]
          },
          "metadata": {
            "tags": []
          }
        },
        {
          "output_type": "execute_result",
          "data": {
            "text/latex": "$$\\left[\\begin{matrix}8 & 0\\\\0 & 18\\end{matrix}\\right]$$",
            "text/plain": [
              "⎡8  0 ⎤\n",
              "⎢     ⎥\n",
              "⎣0  18⎦"
            ]
          },
          "metadata": {
            "tags": []
          },
          "execution_count": 17
        },
        {
          "output_type": "stream",
          "text": [
            "A\n"
          ],
          "name": "stdout"
        },
        {
          "output_type": "display_data",
          "data": {
            "text/html": [
              "<script src='https://cdnjs.cloudflare.com/ajax/libs/mathjax/2.7.3/latest.js?config=default'></script>"
            ],
            "text/plain": [
              "<IPython.core.display.HTML object>"
            ]
          },
          "metadata": {
            "tags": []
          }
        },
        {
          "output_type": "execute_result",
          "data": {
            "text/latex": "$$8 x + 8 = 0$$",
            "text/plain": [
              "8⋅x + 8 = 0"
            ]
          },
          "metadata": {
            "tags": []
          },
          "execution_count": 17
        },
        {
          "output_type": "display_data",
          "data": {
            "text/html": [
              "<script src='https://cdnjs.cloudflare.com/ajax/libs/mathjax/2.7.3/latest.js?config=default'></script>"
            ],
            "text/plain": [
              "<IPython.core.display.HTML object>"
            ]
          },
          "metadata": {
            "tags": []
          }
        },
        {
          "output_type": "execute_result",
          "data": {
            "text/latex": "$$18 y - 36 = 0$$",
            "text/plain": [
              "18⋅y - 36 = 0"
            ]
          },
          "metadata": {
            "tags": []
          },
          "execution_count": 17
        },
        {
          "output_type": "stream",
          "text": [
            "egyenletrendszerből adódik, hogy\n",
            "\n",
            " 1. kritikus pont: \n",
            "               x = -1\n",
            "               y = 2\n",
            "\n",
            "A Hesse mátrix a kritikus pontban:\n"
          ],
          "name": "stdout"
        },
        {
          "output_type": "display_data",
          "data": {
            "text/html": [
              "<script src='https://cdnjs.cloudflare.com/ajax/libs/mathjax/2.7.3/latest.js?config=default'></script>"
            ],
            "text/plain": [
              "<IPython.core.display.HTML object>"
            ]
          },
          "metadata": {
            "tags": []
          }
        },
        {
          "output_type": "execute_result",
          "data": {
            "text/latex": "$$\\left[\\begin{matrix}8 & 0\\\\0 & 18\\end{matrix}\\right]$$",
            "text/plain": [
              "⎡8  0 ⎤\n",
              "⎢     ⎥\n",
              "⎣0  18⎦"
            ]
          },
          "metadata": {
            "tags": []
          },
          "execution_count": 17
        },
        {
          "output_type": "stream",
          "text": [
            "A Hesse mátrix aldeterminánsai: \n"
          ],
          "name": "stdout"
        },
        {
          "output_type": "display_data",
          "data": {
            "text/html": [
              "<script src='https://cdnjs.cloudflare.com/ajax/libs/mathjax/2.7.3/latest.js?config=default'></script>"
            ],
            "text/plain": [
              "<IPython.core.display.HTML object>"
            ]
          },
          "metadata": {
            "tags": []
          }
        },
        {
          "output_type": "execute_result",
          "data": {
            "text/latex": "$$\\left [ 8, \\quad 144\\right ]$$",
            "text/plain": [
              "[8, 144]"
            ]
          },
          "metadata": {
            "tags": []
          },
          "execution_count": 17
        },
        {
          "output_type": "stream",
          "text": [
            "Előjelei: \n",
            "             ['+', '+']\n",
            "\n",
            " A 4*x**2 + 8*x + 9*y**2 - 36*y + 24 függvénynek lokális minimuma van.\n"
          ],
          "name": "stdout"
        }
      ]
    },
    {
      "cell_type": "markdown",
      "metadata": {
        "id": "Ta81LxJp0J7G",
        "colab_type": "text"
      },
      "source": [
        "## Feladatok 2. Legyen $f(x,y):=\\dfrac{1}{3}x^3+y^2+2xy-6x-3y+4$. Határozzuk meg $f$ lokális szélsőértékeit."
      ]
    },
    {
      "cell_type": "code",
      "metadata": {
        "colab_type": "code",
        "outputId": "d71c8769-091c-4c97-8400-ff4e9c9b6865",
        "id": "bRKxJLjjysCc",
        "colab": {
          "base_uri": "https://localhost:8080/",
          "height": 924
        }
      },
      "source": [
        "func = func = x**3/3 +y**2 + 2 * x * y - 6 * x - 3 * y + 4\n",
        "#func_latex = \n",
        "varlist = [x, y]\n",
        "dim = len(varlist)\n",
        "grad_list = gradient(func, varlist)\n",
        "grad_func = Matrix(grad_list)\n",
        "hesse_matrix = hessian(func, varlist)\n",
        "print(f'{func} szélsőértékei')\n",
        "print(\"grad(f) : \")\n",
        "grad_func\n",
        "Eq_list = ['NaN' for _ in range(dim)]\n",
        "roots = list(nonlinsolve(grad_list, varlist))\n",
        "if len(roots) == 0:\n",
        "    print(f'A {func} függvénynek nincs lokális szélsőértéke')\n",
        "    #draw_surface(func)\n",
        "    exit\n",
        "hesse_matrix = hessian(func, varlist)\n",
        "print(\"Hess(f) : \")\n",
        "hesse_matrix\n",
        "print(\"A\")\n",
        "Eq_list = ['NaN' for _ in range(dim)]\n",
        "for i in range(dim):\n",
        "    Eq_list[i] = Eq(grad_func[i])\n",
        "    Eq_list[i]\n",
        "print(\"egyenletrendszerből adódik, hogy\")\n",
        "number_of_roots = len(roots)\n",
        "for j in range(number_of_roots):\n",
        "    print(f'\\n {j + 1}. kritikus pont: ')\n",
        "    for k in range(dim):\n",
        "        print(f'               {varlist[k]} = {roots[j][k]}')\n",
        "    print('\\nA Hesse mátrix a kritikus pontban:')\n",
        "    hesse = hesse_matrix.subs([(varlist[k], roots[j][k]) for k in range(len(varlist))])\n",
        "    hesse\n",
        "    print(\"A Hesse mátrix aldeterminánsai: \")\n",
        "    aldet = ([hesse[0:m, 0:m].det() for m in range(1, dim+1)])\n",
        "    aldet\n",
        "    print(\"Előjelei: \")\n",
        "    aldet_sig_num = np.sign(aldet)\n",
        "    aldet_sig_str = [\"Nan\" for _ in range(dim) ]\n",
        "    for j in range(0,dim):\n",
        "        if aldet_sig_num[j] == -1:\n",
        "            aldet_sig_str[j] = \"-\"\n",
        "        elif aldet_sig_num[j] == 1:\n",
        "            aldet_sig_str[j] = \"+\"\n",
        "        else:\n",
        "            aldet_sig_str[j] = \"0\"\n",
        "    print(\"            \", aldet_sig_str)\n",
        "    aldet_sig_str_odd = aldet_sig_str[0::2]\n",
        "    aldet_sig_str_even = aldet_sig_str[1::2]\n",
        "    if sum(aldet_sig_num) == dim:\n",
        "        print(f'\\n A {func} függvénynek lokális minimuma van.')\n",
        "        #draw_surface(func, roots[j][0].evalf(), roots[j][1].evalf())\n",
        "        #return\n",
        "    elif (aldet_sig_str_odd.count(\"-\") == len(aldet_sig_str_odd)) \\\n",
        "        and (aldet_sig_str_even.count(\"+\") == len(aldet_sig_str_even)):\n",
        "        print(f'\\n A {func} függvénynek lokális maximuma van.')\n",
        "        #draw_surface(func, roots[j][0].evalf(), roots[j][1].evalf())\n",
        "        #draw_surface(func, -1.0, 0.0)\n",
        "        #return\n",
        "    elif ((\"+\" in aldet_sig_str) or (\"-\" in aldet_sig_str)) \\\n",
        "        and (\"0\" not in aldet_sig_str):\n",
        "        print(f'\\n A {func} függvénynek nyeregpontja van.')\n",
        "        #draw_surface(func, roots[j][0].evalf(), roots[j][1].evalf())\n",
        "        #return\n",
        "    else:\n",
        "        print(\"\\n További vizsgálatra van szükség.\")\n",
        "        #draw_surface(func, roots[j][0].evalf(), roots[j][1].evalf())"
      ],
      "execution_count": 19,
      "outputs": [
        {
          "output_type": "stream",
          "text": [
            "x**3/3 + 2*x*y - 6*x + y**2 - 3*y + 4 szélsőértékei\n",
            "grad(f) : \n"
          ],
          "name": "stdout"
        },
        {
          "output_type": "display_data",
          "data": {
            "text/html": [
              "<script src='https://cdnjs.cloudflare.com/ajax/libs/mathjax/2.7.3/latest.js?config=default'></script>"
            ],
            "text/plain": [
              "<IPython.core.display.HTML object>"
            ]
          },
          "metadata": {
            "tags": []
          }
        },
        {
          "output_type": "execute_result",
          "data": {
            "text/latex": "$$\\left[\\begin{matrix}x^{2} + 2 y - 6\\\\2 x + 2 y - 3\\end{matrix}\\right]$$",
            "text/plain": [
              "⎡ 2           ⎤\n",
              "⎢x  + 2⋅y - 6 ⎥\n",
              "⎢             ⎥\n",
              "⎣2⋅x + 2⋅y - 3⎦"
            ]
          },
          "metadata": {
            "tags": []
          },
          "execution_count": 19
        },
        {
          "output_type": "stream",
          "text": [
            "Hess(f) : \n"
          ],
          "name": "stdout"
        },
        {
          "output_type": "display_data",
          "data": {
            "text/html": [
              "<script src='https://cdnjs.cloudflare.com/ajax/libs/mathjax/2.7.3/latest.js?config=default'></script>"
            ],
            "text/plain": [
              "<IPython.core.display.HTML object>"
            ]
          },
          "metadata": {
            "tags": []
          }
        },
        {
          "output_type": "execute_result",
          "data": {
            "text/latex": "$$\\left[\\begin{matrix}2 x & 2\\\\2 & 2\\end{matrix}\\right]$$",
            "text/plain": [
              "⎡2⋅x  2⎤\n",
              "⎢      ⎥\n",
              "⎣ 2   2⎦"
            ]
          },
          "metadata": {
            "tags": []
          },
          "execution_count": 19
        },
        {
          "output_type": "stream",
          "text": [
            "A\n"
          ],
          "name": "stdout"
        },
        {
          "output_type": "display_data",
          "data": {
            "text/html": [
              "<script src='https://cdnjs.cloudflare.com/ajax/libs/mathjax/2.7.3/latest.js?config=default'></script>"
            ],
            "text/plain": [
              "<IPython.core.display.HTML object>"
            ]
          },
          "metadata": {
            "tags": []
          }
        },
        {
          "output_type": "execute_result",
          "data": {
            "text/latex": "$$x^{2} + 2 y - 6 = 0$$",
            "text/plain": [
              " 2              \n",
              "x  + 2⋅y - 6 = 0"
            ]
          },
          "metadata": {
            "tags": []
          },
          "execution_count": 19
        },
        {
          "output_type": "display_data",
          "data": {
            "text/html": [
              "<script src='https://cdnjs.cloudflare.com/ajax/libs/mathjax/2.7.3/latest.js?config=default'></script>"
            ],
            "text/plain": [
              "<IPython.core.display.HTML object>"
            ]
          },
          "metadata": {
            "tags": []
          }
        },
        {
          "output_type": "execute_result",
          "data": {
            "text/latex": "$$2 x + 2 y - 3 = 0$$",
            "text/plain": [
              "2⋅x + 2⋅y - 3 = 0"
            ]
          },
          "metadata": {
            "tags": []
          },
          "execution_count": 19
        },
        {
          "output_type": "stream",
          "text": [
            "egyenletrendszerből adódik, hogy\n",
            "\n",
            " 1. kritikus pont: \n",
            "               x = -1\n",
            "               y = 5/2\n",
            "\n",
            "A Hesse mátrix a kritikus pontban:\n"
          ],
          "name": "stdout"
        },
        {
          "output_type": "display_data",
          "data": {
            "text/html": [
              "<script src='https://cdnjs.cloudflare.com/ajax/libs/mathjax/2.7.3/latest.js?config=default'></script>"
            ],
            "text/plain": [
              "<IPython.core.display.HTML object>"
            ]
          },
          "metadata": {
            "tags": []
          }
        },
        {
          "output_type": "execute_result",
          "data": {
            "text/latex": "$$\\left[\\begin{matrix}-2 & 2\\\\2 & 2\\end{matrix}\\right]$$",
            "text/plain": [
              "⎡-2  2⎤\n",
              "⎢     ⎥\n",
              "⎣2   2⎦"
            ]
          },
          "metadata": {
            "tags": []
          },
          "execution_count": 19
        },
        {
          "output_type": "stream",
          "text": [
            "A Hesse mátrix aldeterminánsai: \n"
          ],
          "name": "stdout"
        },
        {
          "output_type": "display_data",
          "data": {
            "text/html": [
              "<script src='https://cdnjs.cloudflare.com/ajax/libs/mathjax/2.7.3/latest.js?config=default'></script>"
            ],
            "text/plain": [
              "<IPython.core.display.HTML object>"
            ]
          },
          "metadata": {
            "tags": []
          }
        },
        {
          "output_type": "execute_result",
          "data": {
            "text/latex": "$$\\left [ -2, \\quad -8\\right ]$$",
            "text/plain": [
              "[-2, -8]"
            ]
          },
          "metadata": {
            "tags": []
          },
          "execution_count": 19
        },
        {
          "output_type": "stream",
          "text": [
            "Előjelei: \n",
            "             ['-', '-']\n",
            "\n",
            " A x**3/3 + 2*x*y - 6*x + y**2 - 3*y + 4 függvénynek nyeregpontja van.\n",
            "\n",
            " 2. kritikus pont: \n",
            "               x = 3\n",
            "               y = -3/2\n",
            "\n",
            "A Hesse mátrix a kritikus pontban:\n"
          ],
          "name": "stdout"
        },
        {
          "output_type": "display_data",
          "data": {
            "text/html": [
              "<script src='https://cdnjs.cloudflare.com/ajax/libs/mathjax/2.7.3/latest.js?config=default'></script>"
            ],
            "text/plain": [
              "<IPython.core.display.HTML object>"
            ]
          },
          "metadata": {
            "tags": []
          }
        },
        {
          "output_type": "execute_result",
          "data": {
            "text/latex": "$$\\left[\\begin{matrix}6 & 2\\\\2 & 2\\end{matrix}\\right]$$",
            "text/plain": [
              "⎡6  2⎤\n",
              "⎢    ⎥\n",
              "⎣2  2⎦"
            ]
          },
          "metadata": {
            "tags": []
          },
          "execution_count": 19
        },
        {
          "output_type": "stream",
          "text": [
            "A Hesse mátrix aldeterminánsai: \n"
          ],
          "name": "stdout"
        },
        {
          "output_type": "display_data",
          "data": {
            "text/html": [
              "<script src='https://cdnjs.cloudflare.com/ajax/libs/mathjax/2.7.3/latest.js?config=default'></script>"
            ],
            "text/plain": [
              "<IPython.core.display.HTML object>"
            ]
          },
          "metadata": {
            "tags": []
          }
        },
        {
          "output_type": "execute_result",
          "data": {
            "text/latex": "$$\\left [ 6, \\quad 8\\right ]$$",
            "text/plain": [
              "[6, 8]"
            ]
          },
          "metadata": {
            "tags": []
          },
          "execution_count": 19
        },
        {
          "output_type": "stream",
          "text": [
            "Előjelei: \n",
            "             ['+', '+']\n",
            "\n",
            " A x**3/3 + 2*x*y - 6*x + y**2 - 3*y + 4 függvénynek lokális minimuma van.\n"
          ],
          "name": "stdout"
        }
      ]
    },
    {
      "cell_type": "markdown",
      "metadata": {
        "id": "uefleBJ000J_",
        "colab_type": "text"
      },
      "source": [
        "## Feladat 3. Legyen $f(x,y):=x^3+2xy-6x-4y^2$. Határozzuk meg $f$ lokális szélsőértékeit."
      ]
    },
    {
      "cell_type": "code",
      "metadata": {
        "colab_type": "code",
        "outputId": "5bc8607b-a4f8-4b6b-b800-046292fa8314",
        "id": "7-fydEJDysg-",
        "colab": {
          "base_uri": "https://localhost:8080/",
          "height": 924
        }
      },
      "source": [
        "func = x**3 + 2 * x * y - 6 * x - 4 * y**2\n",
        "#func_latex = \n",
        "varlist = [x, y]\n",
        "dim = len(varlist)\n",
        "grad_list = gradient(func, varlist)\n",
        "grad_func = Matrix(grad_list)\n",
        "hesse_matrix = hessian(func, varlist)\n",
        "print(f'{func} szélsőértékei')\n",
        "print(\"grad(f) : \")\n",
        "grad_func\n",
        "Eq_list = ['NaN' for _ in range(dim)]\n",
        "roots = list(nonlinsolve(grad_list, varlist))\n",
        "if len(roots) == 0:\n",
        "    print(f'A {func} függvénynek nincs lokális szélsőértéke')\n",
        "    #draw_surface(func)\n",
        "    exit\n",
        "hesse_matrix = hessian(func, varlist)\n",
        "print(\"Hess(f) : \")\n",
        "hesse_matrix\n",
        "print(\"A\")\n",
        "Eq_list = ['NaN' for _ in range(dim)]\n",
        "for i in range(dim):\n",
        "    Eq_list[i] = Eq(grad_func[i])\n",
        "    Eq_list[i]\n",
        "print(\"egyenletrendszerből adódik, hogy\")\n",
        "number_of_roots = len(roots)\n",
        "for j in range(number_of_roots):\n",
        "    print(f'\\n {j + 1}. kritikus pont: ')\n",
        "    for k in range(dim):\n",
        "        print(f'               {varlist[k]} = {roots[j][k]}')\n",
        "    print('\\nA Hesse mátrix a kritikus pontban:')\n",
        "    hesse = hesse_matrix.subs([(varlist[k], roots[j][k]) for k in range(len(varlist))])\n",
        "    hesse\n",
        "    print(\"A Hesse mátrix aldeterminánsai: \")\n",
        "    aldet = ([hesse[0:m, 0:m].det() for m in range(1, dim+1)])\n",
        "    aldet\n",
        "    print(\"Előjelei: \")\n",
        "    aldet_sig_num = np.sign(aldet)\n",
        "    aldet_sig_str = [\"Nan\" for _ in range(dim) ]\n",
        "    for j in range(0,dim):\n",
        "        if aldet_sig_num[j] == -1:\n",
        "            aldet_sig_str[j] = \"-\"\n",
        "        elif aldet_sig_num[j] == 1:\n",
        "            aldet_sig_str[j] = \"+\"\n",
        "        else:\n",
        "            aldet_sig_str[j] = \"0\"\n",
        "    print(\"            \", aldet_sig_str)\n",
        "    aldet_sig_str_odd = aldet_sig_str[0::2]\n",
        "    aldet_sig_str_even = aldet_sig_str[1::2]\n",
        "    if sum(aldet_sig_num) == dim:\n",
        "        print(f'\\n A {func} függvénynek lokális minimuma van.')\n",
        "        #draw_surface(func, roots[j][0].evalf(), roots[j][1].evalf())\n",
        "        #return\n",
        "    elif (aldet_sig_str_odd.count(\"-\") == len(aldet_sig_str_odd)) \\\n",
        "        and (aldet_sig_str_even.count(\"+\") == len(aldet_sig_str_even)):\n",
        "        print(f'\\n A {func} függvénynek lokális maximuma van.')\n",
        "        #draw_surface(func, roots[j][0].evalf(), roots[j][1].evalf())\n",
        "        #draw_surface(func, -1.0, 0.0)\n",
        "        #return\n",
        "    elif ((\"+\" in aldet_sig_str) or (\"-\" in aldet_sig_str)) \\\n",
        "        and (\"0\" not in aldet_sig_str):\n",
        "        print(f'\\n A {func} függvénynek nyeregpontja van.')\n",
        "        #draw_surface(func, roots[j][0].evalf(), roots[j][1].evalf())\n",
        "        #return\n",
        "    else:\n",
        "        print(\"\\n További vizsgálatra van szükség.\")\n",
        "        #draw_surface(func, roots[j][0].evalf(), roots[j][1].evalf())"
      ],
      "execution_count": 20,
      "outputs": [
        {
          "output_type": "stream",
          "text": [
            "x**3 + 2*x*y - 6*x - 4*y**2 szélsőértékei\n",
            "grad(f) : \n"
          ],
          "name": "stdout"
        },
        {
          "output_type": "display_data",
          "data": {
            "text/html": [
              "<script src='https://cdnjs.cloudflare.com/ajax/libs/mathjax/2.7.3/latest.js?config=default'></script>"
            ],
            "text/plain": [
              "<IPython.core.display.HTML object>"
            ]
          },
          "metadata": {
            "tags": []
          }
        },
        {
          "output_type": "execute_result",
          "data": {
            "text/latex": "$$\\left[\\begin{matrix}3 x^{2} + 2 y - 6\\\\2 x - 8 y\\end{matrix}\\right]$$",
            "text/plain": [
              "⎡   2          ⎤\n",
              "⎢3⋅x  + 2⋅y - 6⎥\n",
              "⎢              ⎥\n",
              "⎣  2⋅x - 8⋅y   ⎦"
            ]
          },
          "metadata": {
            "tags": []
          },
          "execution_count": 20
        },
        {
          "output_type": "stream",
          "text": [
            "Hess(f) : \n"
          ],
          "name": "stdout"
        },
        {
          "output_type": "display_data",
          "data": {
            "text/html": [
              "<script src='https://cdnjs.cloudflare.com/ajax/libs/mathjax/2.7.3/latest.js?config=default'></script>"
            ],
            "text/plain": [
              "<IPython.core.display.HTML object>"
            ]
          },
          "metadata": {
            "tags": []
          }
        },
        {
          "output_type": "execute_result",
          "data": {
            "text/latex": "$$\\left[\\begin{matrix}6 x & 2\\\\2 & -8\\end{matrix}\\right]$$",
            "text/plain": [
              "⎡6⋅x  2 ⎤\n",
              "⎢       ⎥\n",
              "⎣ 2   -8⎦"
            ]
          },
          "metadata": {
            "tags": []
          },
          "execution_count": 20
        },
        {
          "output_type": "stream",
          "text": [
            "A\n"
          ],
          "name": "stdout"
        },
        {
          "output_type": "display_data",
          "data": {
            "text/html": [
              "<script src='https://cdnjs.cloudflare.com/ajax/libs/mathjax/2.7.3/latest.js?config=default'></script>"
            ],
            "text/plain": [
              "<IPython.core.display.HTML object>"
            ]
          },
          "metadata": {
            "tags": []
          }
        },
        {
          "output_type": "execute_result",
          "data": {
            "text/latex": "$$3 x^{2} + 2 y - 6 = 0$$",
            "text/plain": [
              "   2              \n",
              "3⋅x  + 2⋅y - 6 = 0"
            ]
          },
          "metadata": {
            "tags": []
          },
          "execution_count": 20
        },
        {
          "output_type": "display_data",
          "data": {
            "text/html": [
              "<script src='https://cdnjs.cloudflare.com/ajax/libs/mathjax/2.7.3/latest.js?config=default'></script>"
            ],
            "text/plain": [
              "<IPython.core.display.HTML object>"
            ]
          },
          "metadata": {
            "tags": []
          }
        },
        {
          "output_type": "execute_result",
          "data": {
            "text/latex": "$$2 x - 8 y = 0$$",
            "text/plain": [
              "2⋅x - 8⋅y = 0"
            ]
          },
          "metadata": {
            "tags": []
          },
          "execution_count": 20
        },
        {
          "output_type": "stream",
          "text": [
            "egyenletrendszerből adódik, hogy\n",
            "\n",
            " 1. kritikus pont: \n",
            "               x = -3/2\n",
            "               y = -3/8\n",
            "\n",
            "A Hesse mátrix a kritikus pontban:\n"
          ],
          "name": "stdout"
        },
        {
          "output_type": "display_data",
          "data": {
            "text/html": [
              "<script src='https://cdnjs.cloudflare.com/ajax/libs/mathjax/2.7.3/latest.js?config=default'></script>"
            ],
            "text/plain": [
              "<IPython.core.display.HTML object>"
            ]
          },
          "metadata": {
            "tags": []
          }
        },
        {
          "output_type": "execute_result",
          "data": {
            "text/latex": "$$\\left[\\begin{matrix}-9 & 2\\\\2 & -8\\end{matrix}\\right]$$",
            "text/plain": [
              "⎡-9  2 ⎤\n",
              "⎢      ⎥\n",
              "⎣2   -8⎦"
            ]
          },
          "metadata": {
            "tags": []
          },
          "execution_count": 20
        },
        {
          "output_type": "stream",
          "text": [
            "A Hesse mátrix aldeterminánsai: \n"
          ],
          "name": "stdout"
        },
        {
          "output_type": "display_data",
          "data": {
            "text/html": [
              "<script src='https://cdnjs.cloudflare.com/ajax/libs/mathjax/2.7.3/latest.js?config=default'></script>"
            ],
            "text/plain": [
              "<IPython.core.display.HTML object>"
            ]
          },
          "metadata": {
            "tags": []
          }
        },
        {
          "output_type": "execute_result",
          "data": {
            "text/latex": "$$\\left [ -9, \\quad 68\\right ]$$",
            "text/plain": [
              "[-9, 68]"
            ]
          },
          "metadata": {
            "tags": []
          },
          "execution_count": 20
        },
        {
          "output_type": "stream",
          "text": [
            "Előjelei: \n",
            "             ['-', '+']\n",
            "\n",
            " A x**3 + 2*x*y - 6*x - 4*y**2 függvénynek lokális maximuma van.\n",
            "\n",
            " 2. kritikus pont: \n",
            "               x = 4/3\n",
            "               y = 1/3\n",
            "\n",
            "A Hesse mátrix a kritikus pontban:\n"
          ],
          "name": "stdout"
        },
        {
          "output_type": "display_data",
          "data": {
            "text/html": [
              "<script src='https://cdnjs.cloudflare.com/ajax/libs/mathjax/2.7.3/latest.js?config=default'></script>"
            ],
            "text/plain": [
              "<IPython.core.display.HTML object>"
            ]
          },
          "metadata": {
            "tags": []
          }
        },
        {
          "output_type": "execute_result",
          "data": {
            "text/latex": "$$\\left[\\begin{matrix}8 & 2\\\\2 & -8\\end{matrix}\\right]$$",
            "text/plain": [
              "⎡8  2 ⎤\n",
              "⎢     ⎥\n",
              "⎣2  -8⎦"
            ]
          },
          "metadata": {
            "tags": []
          },
          "execution_count": 20
        },
        {
          "output_type": "stream",
          "text": [
            "A Hesse mátrix aldeterminánsai: \n"
          ],
          "name": "stdout"
        },
        {
          "output_type": "display_data",
          "data": {
            "text/html": [
              "<script src='https://cdnjs.cloudflare.com/ajax/libs/mathjax/2.7.3/latest.js?config=default'></script>"
            ],
            "text/plain": [
              "<IPython.core.display.HTML object>"
            ]
          },
          "metadata": {
            "tags": []
          }
        },
        {
          "output_type": "execute_result",
          "data": {
            "text/latex": "$$\\left [ 8, \\quad -68\\right ]$$",
            "text/plain": [
              "[8, -68]"
            ]
          },
          "metadata": {
            "tags": []
          },
          "execution_count": 20
        },
        {
          "output_type": "stream",
          "text": [
            "Előjelei: \n",
            "             ['+', '-']\n",
            "\n",
            " A x**3 + 2*x*y - 6*x - 4*y**2 függvénynek nyeregpontja van.\n"
          ],
          "name": "stdout"
        }
      ]
    },
    {
      "cell_type": "markdown",
      "metadata": {
        "id": "qjrAKU-E1QZN",
        "colab_type": "text"
      },
      "source": [
        "## Feladat 4. Legyen $f(x,y):=2xy+3x+4y$. Határozzuk meg $f$ lokális szélsőértékeit."
      ]
    },
    {
      "cell_type": "code",
      "metadata": {
        "colab_type": "code",
        "outputId": "8d1c8235-4c47-4852-dd07-084fc358172a",
        "id": "m1XSQ4gFysuu",
        "colab": {
          "base_uri": "https://localhost:8080/",
          "height": 616
        }
      },
      "source": [
        "func = 2 * x * y + 3 * x + 4 * y\n",
        "#func_latex = \n",
        "varlist = [x, y]\n",
        "dim = len(varlist)\n",
        "grad_list = gradient(func, varlist)\n",
        "grad_func = Matrix(grad_list)\n",
        "hesse_matrix = hessian(func, varlist)\n",
        "print(f'{func} szélsőértékei')\n",
        "print(\"grad(f) : \")\n",
        "grad_func\n",
        "Eq_list = ['NaN' for _ in range(dim)]\n",
        "roots = list(nonlinsolve(grad_list, varlist))\n",
        "if len(roots) == 0:\n",
        "    print(f'A {func} függvénynek nincs lokális szélsőértéke')\n",
        "    #draw_surface(func)\n",
        "    exit\n",
        "hesse_matrix = hessian(func, varlist)\n",
        "print(\"Hess(f) : \")\n",
        "hesse_matrix\n",
        "print(\"A\")\n",
        "Eq_list = ['NaN' for _ in range(dim)]\n",
        "for i in range(dim):\n",
        "    Eq_list[i] = Eq(grad_func[i])\n",
        "    Eq_list[i]\n",
        "print(\"egyenletrendszerből adódik, hogy\")\n",
        "number_of_roots = len(roots)\n",
        "for j in range(number_of_roots):\n",
        "    print(f'\\n {j + 1}. kritikus pont: ')\n",
        "    for k in range(dim):\n",
        "        print(f'               {varlist[k]} = {roots[j][k]}')\n",
        "    print('\\nA Hesse mátrix a kritikus pontban:')\n",
        "    hesse = hesse_matrix.subs([(varlist[k], roots[j][k]) for k in range(len(varlist))])\n",
        "    hesse\n",
        "    print(\"A Hesse mátrix aldeterminánsai: \")\n",
        "    aldet = ([hesse[0:m, 0:m].det() for m in range(1, dim+1)])\n",
        "    aldet\n",
        "    print(\"Előjelei: \")\n",
        "    aldet_sig_num = np.sign(aldet)\n",
        "    aldet_sig_str = [\"Nan\" for _ in range(dim) ]\n",
        "    for j in range(0,dim):\n",
        "        if aldet_sig_num[j] == -1:\n",
        "            aldet_sig_str[j] = \"-\"\n",
        "        elif aldet_sig_num[j] == 1:\n",
        "            aldet_sig_str[j] = \"+\"\n",
        "        else:\n",
        "            aldet_sig_str[j] = \"0\"\n",
        "    print(\"            \", aldet_sig_str)\n",
        "    aldet_sig_str_odd = aldet_sig_str[0::2]\n",
        "    aldet_sig_str_even = aldet_sig_str[1::2]\n",
        "    if sum(aldet_sig_num) == dim:\n",
        "        print(f'\\n A {func} függvénynek lokális minimuma van.')\n",
        "        #draw_surface(func, roots[j][0].evalf(), roots[j][1].evalf())\n",
        "        #return\n",
        "    elif (aldet_sig_str_odd.count(\"-\") == len(aldet_sig_str_odd)) \\\n",
        "        and (aldet_sig_str_even.count(\"+\") == len(aldet_sig_str_even)):\n",
        "        print(f'\\n A {func} függvénynek lokális maximuma van.')\n",
        "        #draw_surface(func, roots[j][0].evalf(), roots[j][1].evalf())\n",
        "        #draw_surface(func, -1.0, 0.0)\n",
        "        #return\n",
        "    elif ((\"+\" in aldet_sig_str) or (\"-\" in aldet_sig_str)) \\\n",
        "        and (\"0\" not in aldet_sig_str):\n",
        "        print(f'\\n A {func} függvénynek nyeregpontja van.')\n",
        "        #draw_surface(func, roots[j][0].evalf(), roots[j][1].evalf())\n",
        "        #return\n",
        "    else:\n",
        "        print(\"\\n További vizsgálatra van szükség.\")\n",
        "        #draw_surface(func, roots[j][0].evalf(), roots[j][1].evalf())"
      ],
      "execution_count": 21,
      "outputs": [
        {
          "output_type": "stream",
          "text": [
            "2*x*y + 3*x + 4*y szélsőértékei\n",
            "grad(f) : \n"
          ],
          "name": "stdout"
        },
        {
          "output_type": "display_data",
          "data": {
            "text/html": [
              "<script src='https://cdnjs.cloudflare.com/ajax/libs/mathjax/2.7.3/latest.js?config=default'></script>"
            ],
            "text/plain": [
              "<IPython.core.display.HTML object>"
            ]
          },
          "metadata": {
            "tags": []
          }
        },
        {
          "output_type": "execute_result",
          "data": {
            "text/latex": "$$\\left[\\begin{matrix}2 y + 3\\\\2 x + 4\\end{matrix}\\right]$$",
            "text/plain": [
              "⎡2⋅y + 3⎤\n",
              "⎢       ⎥\n",
              "⎣2⋅x + 4⎦"
            ]
          },
          "metadata": {
            "tags": []
          },
          "execution_count": 21
        },
        {
          "output_type": "stream",
          "text": [
            "Hess(f) : \n"
          ],
          "name": "stdout"
        },
        {
          "output_type": "display_data",
          "data": {
            "text/html": [
              "<script src='https://cdnjs.cloudflare.com/ajax/libs/mathjax/2.7.3/latest.js?config=default'></script>"
            ],
            "text/plain": [
              "<IPython.core.display.HTML object>"
            ]
          },
          "metadata": {
            "tags": []
          }
        },
        {
          "output_type": "execute_result",
          "data": {
            "text/latex": "$$\\left[\\begin{matrix}0 & 2\\\\2 & 0\\end{matrix}\\right]$$",
            "text/plain": [
              "⎡0  2⎤\n",
              "⎢    ⎥\n",
              "⎣2  0⎦"
            ]
          },
          "metadata": {
            "tags": []
          },
          "execution_count": 21
        },
        {
          "output_type": "stream",
          "text": [
            "A\n"
          ],
          "name": "stdout"
        },
        {
          "output_type": "display_data",
          "data": {
            "text/html": [
              "<script src='https://cdnjs.cloudflare.com/ajax/libs/mathjax/2.7.3/latest.js?config=default'></script>"
            ],
            "text/plain": [
              "<IPython.core.display.HTML object>"
            ]
          },
          "metadata": {
            "tags": []
          }
        },
        {
          "output_type": "execute_result",
          "data": {
            "text/latex": "$$2 y + 3 = 0$$",
            "text/plain": [
              "2⋅y + 3 = 0"
            ]
          },
          "metadata": {
            "tags": []
          },
          "execution_count": 21
        },
        {
          "output_type": "display_data",
          "data": {
            "text/html": [
              "<script src='https://cdnjs.cloudflare.com/ajax/libs/mathjax/2.7.3/latest.js?config=default'></script>"
            ],
            "text/plain": [
              "<IPython.core.display.HTML object>"
            ]
          },
          "metadata": {
            "tags": []
          }
        },
        {
          "output_type": "execute_result",
          "data": {
            "text/latex": "$$2 x + 4 = 0$$",
            "text/plain": [
              "2⋅x + 4 = 0"
            ]
          },
          "metadata": {
            "tags": []
          },
          "execution_count": 21
        },
        {
          "output_type": "stream",
          "text": [
            "egyenletrendszerből adódik, hogy\n",
            "\n",
            " 1. kritikus pont: \n",
            "               x = -2\n",
            "               y = -3/2\n",
            "\n",
            "A Hesse mátrix a kritikus pontban:\n"
          ],
          "name": "stdout"
        },
        {
          "output_type": "display_data",
          "data": {
            "text/html": [
              "<script src='https://cdnjs.cloudflare.com/ajax/libs/mathjax/2.7.3/latest.js?config=default'></script>"
            ],
            "text/plain": [
              "<IPython.core.display.HTML object>"
            ]
          },
          "metadata": {
            "tags": []
          }
        },
        {
          "output_type": "execute_result",
          "data": {
            "text/latex": "$$\\left[\\begin{matrix}0 & 2\\\\2 & 0\\end{matrix}\\right]$$",
            "text/plain": [
              "⎡0  2⎤\n",
              "⎢    ⎥\n",
              "⎣2  0⎦"
            ]
          },
          "metadata": {
            "tags": []
          },
          "execution_count": 21
        },
        {
          "output_type": "stream",
          "text": [
            "A Hesse mátrix aldeterminánsai: \n"
          ],
          "name": "stdout"
        },
        {
          "output_type": "display_data",
          "data": {
            "text/html": [
              "<script src='https://cdnjs.cloudflare.com/ajax/libs/mathjax/2.7.3/latest.js?config=default'></script>"
            ],
            "text/plain": [
              "<IPython.core.display.HTML object>"
            ]
          },
          "metadata": {
            "tags": []
          }
        },
        {
          "output_type": "execute_result",
          "data": {
            "text/latex": "$$\\left [ 0, \\quad -4\\right ]$$",
            "text/plain": [
              "[0, -4]"
            ]
          },
          "metadata": {
            "tags": []
          },
          "execution_count": 21
        },
        {
          "output_type": "stream",
          "text": [
            "Előjelei: \n",
            "             ['0', '-']\n",
            "\n",
            " További vizsgálatra van szükség.\n"
          ],
          "name": "stdout"
        }
      ]
    },
    {
      "cell_type": "markdown",
      "metadata": {
        "id": "JEMkIh4r2UTc",
        "colab_type": "text"
      },
      "source": [
        "## Feladat 5. Legyen $f(x,y):=3x^2-2xy+y^2-8y$. Határozzuk meg $f$ lokális szélsőértékeit."
      ]
    },
    {
      "cell_type": "code",
      "metadata": {
        "colab_type": "code",
        "outputId": "a04f3355-fd08-4406-f827-e16a6e99d07d",
        "id": "pl9ZqJxcys7_",
        "colab": {
          "base_uri": "https://localhost:8080/",
          "height": 616
        }
      },
      "source": [
        "func = 3 * x**2 - 2 * x * y + y**2 - 8 * y\n",
        "#func_latex = \n",
        "varlist = [x, y]\n",
        "dim = len(varlist)\n",
        "grad_list = gradient(func, varlist)\n",
        "grad_func = Matrix(grad_list)\n",
        "hesse_matrix = hessian(func, varlist)\n",
        "print(f'{func} szélsőértékei')\n",
        "print(\"grad(f) : \")\n",
        "grad_func\n",
        "Eq_list = ['NaN' for _ in range(dim)]\n",
        "roots = list(nonlinsolve(grad_list, varlist))\n",
        "if len(roots) == 0:\n",
        "    print(f'A {func} függvénynek nincs lokális szélsőértéke')\n",
        "    #draw_surface(func)\n",
        "    exit\n",
        "hesse_matrix = hessian(func, varlist)\n",
        "print(\"Hess(f) : \")\n",
        "hesse_matrix\n",
        "print(\"A\")\n",
        "Eq_list = ['NaN' for _ in range(dim)]\n",
        "for i in range(dim):\n",
        "    Eq_list[i] = Eq(grad_func[i])\n",
        "    Eq_list[i]\n",
        "print(\"egyenletrendszerből adódik, hogy\")\n",
        "number_of_roots = len(roots)\n",
        "for j in range(number_of_roots):\n",
        "    print(f'\\n {j + 1}. kritikus pont: ')\n",
        "    for k in range(dim):\n",
        "        print(f'               {varlist[k]} = {roots[j][k]}')\n",
        "    print('\\nA Hesse mátrix a kritikus pontban:')\n",
        "    hesse = hesse_matrix.subs([(varlist[k], roots[j][k]) for k in range(len(varlist))])\n",
        "    hesse\n",
        "    print(\"A Hesse mátrix aldeterminánsai: \")\n",
        "    aldet = ([hesse[0:m, 0:m].det() for m in range(1, dim+1)])\n",
        "    aldet\n",
        "    print(\"Előjelei: \")\n",
        "    aldet_sig_num = np.sign(aldet)\n",
        "    aldet_sig_str = [\"Nan\" for _ in range(dim) ]\n",
        "    for j in range(0,dim):\n",
        "        if aldet_sig_num[j] == -1:\n",
        "            aldet_sig_str[j] = \"-\"\n",
        "        elif aldet_sig_num[j] == 1:\n",
        "            aldet_sig_str[j] = \"+\"\n",
        "        else:\n",
        "            aldet_sig_str[j] = \"0\"\n",
        "    print(\"            \", aldet_sig_str)\n",
        "    aldet_sig_str_odd = aldet_sig_str[0::2]\n",
        "    aldet_sig_str_even = aldet_sig_str[1::2]\n",
        "    if sum(aldet_sig_num) == dim:\n",
        "        print(f'\\n A {func} függvénynek lokális minimuma van.')\n",
        "        #draw_surface(func, roots[j][0].evalf(), roots[j][1].evalf())\n",
        "        #return\n",
        "    elif (aldet_sig_str_odd.count(\"-\") == len(aldet_sig_str_odd)) \\\n",
        "        and (aldet_sig_str_even.count(\"+\") == len(aldet_sig_str_even)):\n",
        "        print(f'\\n A {func} függvénynek lokális maximuma van.')\n",
        "        #draw_surface(func, roots[j][0].evalf(), roots[j][1].evalf())\n",
        "        #draw_surface(func, -1.0, 0.0)\n",
        "        #return\n",
        "    elif ((\"+\" in aldet_sig_str) or (\"-\" in aldet_sig_str)) \\\n",
        "        and (\"0\" not in aldet_sig_str):\n",
        "        print(f'\\n A {func} függvénynek nyeregpontja van.')\n",
        "        #draw_surface(func, roots[j][0].evalf(), roots[j][1].evalf())\n",
        "        #return\n",
        "    else:\n",
        "        print(\"\\n További vizsgálatra van szükség.\")\n",
        "        #draw_surface(func, roots[j][0].evalf(), roots[j][1].evalf())"
      ],
      "execution_count": 23,
      "outputs": [
        {
          "output_type": "stream",
          "text": [
            "3*x**2 - 2*x*y + y**2 - 8*y szélsőértékei\n",
            "grad(f) : \n"
          ],
          "name": "stdout"
        },
        {
          "output_type": "display_data",
          "data": {
            "text/html": [
              "<script src='https://cdnjs.cloudflare.com/ajax/libs/mathjax/2.7.3/latest.js?config=default'></script>"
            ],
            "text/plain": [
              "<IPython.core.display.HTML object>"
            ]
          },
          "metadata": {
            "tags": []
          }
        },
        {
          "output_type": "execute_result",
          "data": {
            "text/latex": "$$\\left[\\begin{matrix}6 x - 2 y\\\\- 2 x + 2 y - 8\\end{matrix}\\right]$$",
            "text/plain": [
              "⎡  6⋅x - 2⋅y   ⎤\n",
              "⎢              ⎥\n",
              "⎣-2⋅x + 2⋅y - 8⎦"
            ]
          },
          "metadata": {
            "tags": []
          },
          "execution_count": 23
        },
        {
          "output_type": "stream",
          "text": [
            "Hess(f) : \n"
          ],
          "name": "stdout"
        },
        {
          "output_type": "display_data",
          "data": {
            "text/html": [
              "<script src='https://cdnjs.cloudflare.com/ajax/libs/mathjax/2.7.3/latest.js?config=default'></script>"
            ],
            "text/plain": [
              "<IPython.core.display.HTML object>"
            ]
          },
          "metadata": {
            "tags": []
          }
        },
        {
          "output_type": "execute_result",
          "data": {
            "text/latex": "$$\\left[\\begin{matrix}6 & -2\\\\-2 & 2\\end{matrix}\\right]$$",
            "text/plain": [
              "⎡6   -2⎤\n",
              "⎢      ⎥\n",
              "⎣-2  2 ⎦"
            ]
          },
          "metadata": {
            "tags": []
          },
          "execution_count": 23
        },
        {
          "output_type": "stream",
          "text": [
            "A\n"
          ],
          "name": "stdout"
        },
        {
          "output_type": "display_data",
          "data": {
            "text/html": [
              "<script src='https://cdnjs.cloudflare.com/ajax/libs/mathjax/2.7.3/latest.js?config=default'></script>"
            ],
            "text/plain": [
              "<IPython.core.display.HTML object>"
            ]
          },
          "metadata": {
            "tags": []
          }
        },
        {
          "output_type": "execute_result",
          "data": {
            "text/latex": "$$6 x - 2 y = 0$$",
            "text/plain": [
              "6⋅x - 2⋅y = 0"
            ]
          },
          "metadata": {
            "tags": []
          },
          "execution_count": 23
        },
        {
          "output_type": "display_data",
          "data": {
            "text/html": [
              "<script src='https://cdnjs.cloudflare.com/ajax/libs/mathjax/2.7.3/latest.js?config=default'></script>"
            ],
            "text/plain": [
              "<IPython.core.display.HTML object>"
            ]
          },
          "metadata": {
            "tags": []
          }
        },
        {
          "output_type": "execute_result",
          "data": {
            "text/latex": "$$- 2 x + 2 y - 8 = 0$$",
            "text/plain": [
              "-2⋅x + 2⋅y - 8 = 0"
            ]
          },
          "metadata": {
            "tags": []
          },
          "execution_count": 23
        },
        {
          "output_type": "stream",
          "text": [
            "egyenletrendszerből adódik, hogy\n",
            "\n",
            " 1. kritikus pont: \n",
            "               x = 2\n",
            "               y = 6\n",
            "\n",
            "A Hesse mátrix a kritikus pontban:\n"
          ],
          "name": "stdout"
        },
        {
          "output_type": "display_data",
          "data": {
            "text/html": [
              "<script src='https://cdnjs.cloudflare.com/ajax/libs/mathjax/2.7.3/latest.js?config=default'></script>"
            ],
            "text/plain": [
              "<IPython.core.display.HTML object>"
            ]
          },
          "metadata": {
            "tags": []
          }
        },
        {
          "output_type": "execute_result",
          "data": {
            "text/latex": "$$\\left[\\begin{matrix}6 & -2\\\\-2 & 2\\end{matrix}\\right]$$",
            "text/plain": [
              "⎡6   -2⎤\n",
              "⎢      ⎥\n",
              "⎣-2  2 ⎦"
            ]
          },
          "metadata": {
            "tags": []
          },
          "execution_count": 23
        },
        {
          "output_type": "stream",
          "text": [
            "A Hesse mátrix aldeterminánsai: \n"
          ],
          "name": "stdout"
        },
        {
          "output_type": "display_data",
          "data": {
            "text/html": [
              "<script src='https://cdnjs.cloudflare.com/ajax/libs/mathjax/2.7.3/latest.js?config=default'></script>"
            ],
            "text/plain": [
              "<IPython.core.display.HTML object>"
            ]
          },
          "metadata": {
            "tags": []
          }
        },
        {
          "output_type": "execute_result",
          "data": {
            "text/latex": "$$\\left [ 6, \\quad 8\\right ]$$",
            "text/plain": [
              "[6, 8]"
            ]
          },
          "metadata": {
            "tags": []
          },
          "execution_count": 23
        },
        {
          "output_type": "stream",
          "text": [
            "Előjelei: \n",
            "             ['+', '+']\n",
            "\n",
            " A 3*x**2 - 2*x*y + y**2 - 8*y függvénynek lokális minimuma van.\n"
          ],
          "name": "stdout"
        }
      ]
    },
    {
      "cell_type": "markdown",
      "metadata": {
        "id": "fe97AEj63lD8",
        "colab_type": "text"
      },
      "source": [
        "## Feladat 6. Legyen $f(x,y):=y^2+xy+3y+2x+3$. Határozzuk meg $f$ lokális szélsőértékeit."
      ]
    },
    {
      "cell_type": "code",
      "metadata": {
        "colab_type": "code",
        "outputId": "d34e2b9c-bf28-4a7e-bcf8-1dcf6ebbbaf9",
        "id": "bLYakUGEytHh",
        "colab": {
          "base_uri": "https://localhost:8080/",
          "height": 616
        }
      },
      "source": [
        "func = y**2 + x * y + 3 * y + 2 * x + 3\n",
        "#func_latex = \n",
        "varlist = [x, y]\n",
        "dim = len(varlist)\n",
        "grad_list = gradient(func, varlist)\n",
        "grad_func = Matrix(grad_list)\n",
        "hesse_matrix = hessian(func, varlist)\n",
        "print(f'{func} szélsőértékei')\n",
        "print(\"grad(f) : \")\n",
        "grad_func\n",
        "Eq_list = ['NaN' for _ in range(dim)]\n",
        "roots = list(nonlinsolve(grad_list, varlist))\n",
        "if len(roots) == 0:\n",
        "    print(f'A {func} függvénynek nincs lokális szélsőértéke')\n",
        "    #draw_surface(func)\n",
        "    exit\n",
        "hesse_matrix = hessian(func, varlist)\n",
        "print(\"Hess(f) : \")\n",
        "hesse_matrix\n",
        "print(\"A\")\n",
        "Eq_list = ['NaN' for _ in range(dim)]\n",
        "for i in range(dim):\n",
        "    Eq_list[i] = Eq(grad_func[i])\n",
        "    Eq_list[i]\n",
        "print(\"egyenletrendszerből adódik, hogy\")\n",
        "number_of_roots = len(roots)\n",
        "for j in range(number_of_roots):\n",
        "    print(f'\\n {j + 1}. kritikus pont: ')\n",
        "    for k in range(dim):\n",
        "        print(f'               {varlist[k]} = {roots[j][k]}')\n",
        "    print('\\nA Hesse mátrix a kritikus pontban:')\n",
        "    hesse = hesse_matrix.subs([(varlist[k], roots[j][k]) for k in range(len(varlist))])\n",
        "    hesse\n",
        "    print(\"A Hesse mátrix aldeterminánsai: \")\n",
        "    aldet = ([hesse[0:m, 0:m].det() for m in range(1, dim+1)])\n",
        "    aldet\n",
        "    print(\"Előjelei: \")\n",
        "    aldet_sig_num = np.sign(aldet)\n",
        "    aldet_sig_str = [\"Nan\" for _ in range(dim) ]\n",
        "    for j in range(0,dim):\n",
        "        if aldet_sig_num[j] == -1:\n",
        "            aldet_sig_str[j] = \"-\"\n",
        "        elif aldet_sig_num[j] == 1:\n",
        "            aldet_sig_str[j] = \"+\"\n",
        "        else:\n",
        "            aldet_sig_str[j] = \"0\"\n",
        "    print(\"            \", aldet_sig_str)\n",
        "    aldet_sig_str_odd = aldet_sig_str[0::2]\n",
        "    aldet_sig_str_even = aldet_sig_str[1::2]\n",
        "    if sum(aldet_sig_num) == dim:\n",
        "        print(f'\\n A {func} függvénynek lokális minimuma van.')\n",
        "        #draw_surface(func, roots[j][0].evalf(), roots[j][1].evalf())\n",
        "        #return\n",
        "    elif (aldet_sig_str_odd.count(\"-\") == len(aldet_sig_str_odd)) \\\n",
        "        and (aldet_sig_str_even.count(\"+\") == len(aldet_sig_str_even)):\n",
        "        print(f'\\n A {func} függvénynek lokális maximuma van.')\n",
        "        #draw_surface(func, roots[j][0].evalf(), roots[j][1].evalf())\n",
        "        #draw_surface(func, -1.0, 0.0)\n",
        "        #return\n",
        "    elif ((\"+\" in aldet_sig_str) or (\"-\" in aldet_sig_str)) \\\n",
        "        and (\"0\" not in aldet_sig_str):\n",
        "        print(f'\\n A {func} függvénynek nyeregpontja van.')\n",
        "        #draw_surface(func, roots[j][0].evalf(), roots[j][1].evalf())\n",
        "        #return\n",
        "    else:\n",
        "        print(\"\\n További vizsgálatra van szükség.\")\n",
        "        #draw_surface(func, roots[j][0].evalf(), roots[j][1].evalf())"
      ],
      "execution_count": 30,
      "outputs": [
        {
          "output_type": "stream",
          "text": [
            "x*y + 2*x + y**2 + 3*y + 3 szélsőértékei\n",
            "grad(f) : \n"
          ],
          "name": "stdout"
        },
        {
          "output_type": "display_data",
          "data": {
            "text/html": [
              "<script src='https://cdnjs.cloudflare.com/ajax/libs/mathjax/2.7.3/latest.js?config=default'></script>"
            ],
            "text/plain": [
              "<IPython.core.display.HTML object>"
            ]
          },
          "metadata": {
            "tags": []
          }
        },
        {
          "output_type": "execute_result",
          "data": {
            "text/latex": "$$\\left[\\begin{matrix}y + 2\\\\x + 2 y + 3\\end{matrix}\\right]$$",
            "text/plain": [
              "⎡   y + 2   ⎤\n",
              "⎢           ⎥\n",
              "⎣x + 2⋅y + 3⎦"
            ]
          },
          "metadata": {
            "tags": []
          },
          "execution_count": 30
        },
        {
          "output_type": "stream",
          "text": [
            "Hess(f) : \n"
          ],
          "name": "stdout"
        },
        {
          "output_type": "display_data",
          "data": {
            "text/html": [
              "<script src='https://cdnjs.cloudflare.com/ajax/libs/mathjax/2.7.3/latest.js?config=default'></script>"
            ],
            "text/plain": [
              "<IPython.core.display.HTML object>"
            ]
          },
          "metadata": {
            "tags": []
          }
        },
        {
          "output_type": "execute_result",
          "data": {
            "text/latex": "$$\\left[\\begin{matrix}0 & 1\\\\1 & 2\\end{matrix}\\right]$$",
            "text/plain": [
              "⎡0  1⎤\n",
              "⎢    ⎥\n",
              "⎣1  2⎦"
            ]
          },
          "metadata": {
            "tags": []
          },
          "execution_count": 30
        },
        {
          "output_type": "stream",
          "text": [
            "A\n"
          ],
          "name": "stdout"
        },
        {
          "output_type": "display_data",
          "data": {
            "text/html": [
              "<script src='https://cdnjs.cloudflare.com/ajax/libs/mathjax/2.7.3/latest.js?config=default'></script>"
            ],
            "text/plain": [
              "<IPython.core.display.HTML object>"
            ]
          },
          "metadata": {
            "tags": []
          }
        },
        {
          "output_type": "execute_result",
          "data": {
            "text/latex": "$$y + 2 = 0$$",
            "text/plain": [
              "y + 2 = 0"
            ]
          },
          "metadata": {
            "tags": []
          },
          "execution_count": 30
        },
        {
          "output_type": "display_data",
          "data": {
            "text/html": [
              "<script src='https://cdnjs.cloudflare.com/ajax/libs/mathjax/2.7.3/latest.js?config=default'></script>"
            ],
            "text/plain": [
              "<IPython.core.display.HTML object>"
            ]
          },
          "metadata": {
            "tags": []
          }
        },
        {
          "output_type": "execute_result",
          "data": {
            "text/latex": "$$x + 2 y + 3 = 0$$",
            "text/plain": [
              "x + 2⋅y + 3 = 0"
            ]
          },
          "metadata": {
            "tags": []
          },
          "execution_count": 30
        },
        {
          "output_type": "stream",
          "text": [
            "egyenletrendszerből adódik, hogy\n",
            "\n",
            " 1. kritikus pont: \n",
            "               x = 1\n",
            "               y = -2\n",
            "\n",
            "A Hesse mátrix a kritikus pontban:\n"
          ],
          "name": "stdout"
        },
        {
          "output_type": "display_data",
          "data": {
            "text/html": [
              "<script src='https://cdnjs.cloudflare.com/ajax/libs/mathjax/2.7.3/latest.js?config=default'></script>"
            ],
            "text/plain": [
              "<IPython.core.display.HTML object>"
            ]
          },
          "metadata": {
            "tags": []
          }
        },
        {
          "output_type": "execute_result",
          "data": {
            "text/latex": "$$\\left[\\begin{matrix}0 & 1\\\\1 & 2\\end{matrix}\\right]$$",
            "text/plain": [
              "⎡0  1⎤\n",
              "⎢    ⎥\n",
              "⎣1  2⎦"
            ]
          },
          "metadata": {
            "tags": []
          },
          "execution_count": 30
        },
        {
          "output_type": "stream",
          "text": [
            "A Hesse mátrix aldeterminánsai: \n"
          ],
          "name": "stdout"
        },
        {
          "output_type": "display_data",
          "data": {
            "text/html": [
              "<script src='https://cdnjs.cloudflare.com/ajax/libs/mathjax/2.7.3/latest.js?config=default'></script>"
            ],
            "text/plain": [
              "<IPython.core.display.HTML object>"
            ]
          },
          "metadata": {
            "tags": []
          }
        },
        {
          "output_type": "execute_result",
          "data": {
            "text/latex": "$$\\left [ 0, \\quad -1\\right ]$$",
            "text/plain": [
              "[0, -1]"
            ]
          },
          "metadata": {
            "tags": []
          },
          "execution_count": 30
        },
        {
          "output_type": "stream",
          "text": [
            "Előjelei: \n",
            "             ['0', '-']\n",
            "\n",
            " További vizsgálatra van szükség.\n"
          ],
          "name": "stdout"
        }
      ]
    },
    {
      "cell_type": "markdown",
      "metadata": {
        "id": "Yb_MN8T86hxN",
        "colab_type": "text"
      },
      "source": [
        "## Feladat 7. Legyen $f(x,y):=x^2+2y^2-x^2y$. Határozzuk meg $f$ lokális szélsőértékeit."
      ]
    },
    {
      "cell_type": "code",
      "metadata": {
        "colab_type": "code",
        "outputId": "979e377f-f74e-4ebb-8ee9-a672a5756c67",
        "id": "0aVRfNNtytQE",
        "colab": {
          "base_uri": "https://localhost:8080/",
          "height": 1000
        }
      },
      "source": [
        "func = x**2 + 2 * y**2 - x**2 * y\n",
        "#func_latex = \n",
        "varlist = [x, y]\n",
        "dim = len(varlist)\n",
        "grad_list = gradient(func, varlist)\n",
        "grad_func = Matrix(grad_list)\n",
        "hesse_matrix = hessian(func, varlist)\n",
        "print(f'{func} szélsőértékei')\n",
        "print(\"grad(f) : \")\n",
        "grad_func\n",
        "Eq_list = ['NaN' for _ in range(dim)]\n",
        "roots = list(nonlinsolve(grad_list, varlist))\n",
        "if len(roots) == 0:\n",
        "    print(f'A {func} függvénynek nincs lokális szélsőértéke')\n",
        "    #draw_surface(func)\n",
        "    exit\n",
        "hesse_matrix = hessian(func, varlist)\n",
        "print(\"Hess(f) : \")\n",
        "hesse_matrix\n",
        "print(\"A\")\n",
        "Eq_list = ['NaN' for _ in range(dim)]\n",
        "for i in range(dim):\n",
        "    Eq_list[i] = Eq(grad_func[i])\n",
        "    Eq_list[i]\n",
        "print(\"egyenletrendszerből adódik, hogy\")\n",
        "number_of_roots = len(roots)\n",
        "for j in range(number_of_roots):\n",
        "    print(f'\\n {j + 1}. kritikus pont: ')\n",
        "    for k in range(dim):\n",
        "        print(f'               {varlist[k]} = {roots[j][k]}')\n",
        "    print('\\nA Hesse mátrix a kritikus pontban:')\n",
        "    hesse = hesse_matrix.subs([(varlist[k], roots[j][k]) for k in range(len(varlist))])\n",
        "    hesse\n",
        "    print(\"A Hesse mátrix aldeterminánsai: \")\n",
        "    aldet = ([hesse[0:m, 0:m].det() for m in range(1, dim+1)])\n",
        "    aldet\n",
        "    print(\"Előjelei: \")\n",
        "    aldet_sig_num = np.sign(aldet)\n",
        "    aldet_sig_str = [\"Nan\" for _ in range(dim) ]\n",
        "    for j in range(0,dim):\n",
        "        if aldet_sig_num[j] == -1:\n",
        "            aldet_sig_str[j] = \"-\"\n",
        "        elif aldet_sig_num[j] == 1:\n",
        "            aldet_sig_str[j] = \"+\"\n",
        "        else:\n",
        "            aldet_sig_str[j] = \"0\"\n",
        "    print(\"            \", aldet_sig_str)\n",
        "    aldet_sig_str_odd = aldet_sig_str[0::2]\n",
        "    aldet_sig_str_even = aldet_sig_str[1::2]\n",
        "    if sum(aldet_sig_num) == dim:\n",
        "        print(f'\\n A {func} függvénynek lokális minimuma van.')\n",
        "        #draw_surface(func, roots[j][0].evalf(), roots[j][1].evalf())\n",
        "        #return\n",
        "    elif (aldet_sig_str_odd.count(\"-\") == len(aldet_sig_str_odd)) \\\n",
        "        and (aldet_sig_str_even.count(\"+\") == len(aldet_sig_str_even)):\n",
        "        print(f'\\n A {func} függvénynek lokális maximuma van.')\n",
        "        #draw_surface(func, roots[j][0].evalf(), roots[j][1].evalf())\n",
        "        #draw_surface(func, -1.0, 0.0)\n",
        "        #return\n",
        "    elif ((\"+\" in aldet_sig_str) or (\"-\" in aldet_sig_str)) \\\n",
        "        and (\"0\" not in aldet_sig_str):\n",
        "        print(f'\\n A {func} függvénynek nyeregpontja van.')\n",
        "        #draw_surface(func, roots[j][0].evalf(), roots[j][1].evalf())\n",
        "        #return\n",
        "    else:\n",
        "        print(\"\\n További vizsgálatra van szükség.\")\n",
        "        #draw_surface(func, roots[j][0].evalf(), roots[j][1].evalf())"
      ],
      "execution_count": 31,
      "outputs": [
        {
          "output_type": "stream",
          "text": [
            "-x**2*y + x**2 + 2*y**2 szélsőértékei\n",
            "grad(f) : \n"
          ],
          "name": "stdout"
        },
        {
          "output_type": "display_data",
          "data": {
            "text/html": [
              "<script src='https://cdnjs.cloudflare.com/ajax/libs/mathjax/2.7.3/latest.js?config=default'></script>"
            ],
            "text/plain": [
              "<IPython.core.display.HTML object>"
            ]
          },
          "metadata": {
            "tags": []
          }
        },
        {
          "output_type": "execute_result",
          "data": {
            "text/latex": "$$\\left[\\begin{matrix}- 2 x y + 2 x\\\\- x^{2} + 4 y\\end{matrix}\\right]$$",
            "text/plain": [
              "⎡-2⋅x⋅y + 2⋅x⎤\n",
              "⎢            ⎥\n",
              "⎢    2       ⎥\n",
              "⎣ - x  + 4⋅y ⎦"
            ]
          },
          "metadata": {
            "tags": []
          },
          "execution_count": 31
        },
        {
          "output_type": "stream",
          "text": [
            "Hess(f) : \n"
          ],
          "name": "stdout"
        },
        {
          "output_type": "display_data",
          "data": {
            "text/html": [
              "<script src='https://cdnjs.cloudflare.com/ajax/libs/mathjax/2.7.3/latest.js?config=default'></script>"
            ],
            "text/plain": [
              "<IPython.core.display.HTML object>"
            ]
          },
          "metadata": {
            "tags": []
          }
        },
        {
          "output_type": "execute_result",
          "data": {
            "text/latex": "$$\\left[\\begin{matrix}- 2 y + 2 & - 2 x\\\\- 2 x & 4\\end{matrix}\\right]$$",
            "text/plain": [
              "⎡-2⋅y + 2  -2⋅x⎤\n",
              "⎢              ⎥\n",
              "⎣  -2⋅x     4  ⎦"
            ]
          },
          "metadata": {
            "tags": []
          },
          "execution_count": 31
        },
        {
          "output_type": "stream",
          "text": [
            "A\n"
          ],
          "name": "stdout"
        },
        {
          "output_type": "display_data",
          "data": {
            "text/html": [
              "<script src='https://cdnjs.cloudflare.com/ajax/libs/mathjax/2.7.3/latest.js?config=default'></script>"
            ],
            "text/plain": [
              "<IPython.core.display.HTML object>"
            ]
          },
          "metadata": {
            "tags": []
          }
        },
        {
          "output_type": "execute_result",
          "data": {
            "text/latex": "$$- 2 x y + 2 x = 0$$",
            "text/plain": [
              "-2⋅x⋅y + 2⋅x = 0"
            ]
          },
          "metadata": {
            "tags": []
          },
          "execution_count": 31
        },
        {
          "output_type": "display_data",
          "data": {
            "text/html": [
              "<script src='https://cdnjs.cloudflare.com/ajax/libs/mathjax/2.7.3/latest.js?config=default'></script>"
            ],
            "text/plain": [
              "<IPython.core.display.HTML object>"
            ]
          },
          "metadata": {
            "tags": []
          }
        },
        {
          "output_type": "execute_result",
          "data": {
            "text/latex": "$$- x^{2} + 4 y = 0$$",
            "text/plain": [
              "   2          \n",
              "- x  + 4⋅y = 0"
            ]
          },
          "metadata": {
            "tags": []
          },
          "execution_count": 31
        },
        {
          "output_type": "stream",
          "text": [
            "egyenletrendszerből adódik, hogy\n",
            "\n",
            " 1. kritikus pont: \n",
            "               x = -2\n",
            "               y = 1\n",
            "\n",
            "A Hesse mátrix a kritikus pontban:\n"
          ],
          "name": "stdout"
        },
        {
          "output_type": "display_data",
          "data": {
            "text/html": [
              "<script src='https://cdnjs.cloudflare.com/ajax/libs/mathjax/2.7.3/latest.js?config=default'></script>"
            ],
            "text/plain": [
              "<IPython.core.display.HTML object>"
            ]
          },
          "metadata": {
            "tags": []
          }
        },
        {
          "output_type": "execute_result",
          "data": {
            "text/latex": "$$\\left[\\begin{matrix}0 & 4\\\\4 & 4\\end{matrix}\\right]$$",
            "text/plain": [
              "⎡0  4⎤\n",
              "⎢    ⎥\n",
              "⎣4  4⎦"
            ]
          },
          "metadata": {
            "tags": []
          },
          "execution_count": 31
        },
        {
          "output_type": "stream",
          "text": [
            "A Hesse mátrix aldeterminánsai: \n"
          ],
          "name": "stdout"
        },
        {
          "output_type": "display_data",
          "data": {
            "text/html": [
              "<script src='https://cdnjs.cloudflare.com/ajax/libs/mathjax/2.7.3/latest.js?config=default'></script>"
            ],
            "text/plain": [
              "<IPython.core.display.HTML object>"
            ]
          },
          "metadata": {
            "tags": []
          }
        },
        {
          "output_type": "execute_result",
          "data": {
            "text/latex": "$$\\left [ 0, \\quad -16\\right ]$$",
            "text/plain": [
              "[0, -16]"
            ]
          },
          "metadata": {
            "tags": []
          },
          "execution_count": 31
        },
        {
          "output_type": "stream",
          "text": [
            "Előjelei: \n",
            "             ['0', '-']\n",
            "\n",
            " További vizsgálatra van szükség.\n",
            "\n",
            " 2. kritikus pont: \n",
            "               x = 0\n",
            "               y = 0\n",
            "\n",
            "A Hesse mátrix a kritikus pontban:\n"
          ],
          "name": "stdout"
        },
        {
          "output_type": "display_data",
          "data": {
            "text/html": [
              "<script src='https://cdnjs.cloudflare.com/ajax/libs/mathjax/2.7.3/latest.js?config=default'></script>"
            ],
            "text/plain": [
              "<IPython.core.display.HTML object>"
            ]
          },
          "metadata": {
            "tags": []
          }
        },
        {
          "output_type": "execute_result",
          "data": {
            "text/latex": "$$\\left[\\begin{matrix}2 & 0\\\\0 & 4\\end{matrix}\\right]$$",
            "text/plain": [
              "⎡2  0⎤\n",
              "⎢    ⎥\n",
              "⎣0  4⎦"
            ]
          },
          "metadata": {
            "tags": []
          },
          "execution_count": 31
        },
        {
          "output_type": "stream",
          "text": [
            "A Hesse mátrix aldeterminánsai: \n"
          ],
          "name": "stdout"
        },
        {
          "output_type": "display_data",
          "data": {
            "text/html": [
              "<script src='https://cdnjs.cloudflare.com/ajax/libs/mathjax/2.7.3/latest.js?config=default'></script>"
            ],
            "text/plain": [
              "<IPython.core.display.HTML object>"
            ]
          },
          "metadata": {
            "tags": []
          }
        },
        {
          "output_type": "execute_result",
          "data": {
            "text/latex": "$$\\left [ 2, \\quad 8\\right ]$$",
            "text/plain": [
              "[2, 8]"
            ]
          },
          "metadata": {
            "tags": []
          },
          "execution_count": 31
        },
        {
          "output_type": "stream",
          "text": [
            "Előjelei: \n",
            "             ['+', '+']\n",
            "\n",
            " A -x**2*y + x**2 + 2*y**2 függvénynek lokális minimuma van.\n",
            "\n",
            " 3. kritikus pont: \n",
            "               x = 2\n",
            "               y = 1\n",
            "\n",
            "A Hesse mátrix a kritikus pontban:\n"
          ],
          "name": "stdout"
        },
        {
          "output_type": "display_data",
          "data": {
            "text/html": [
              "<script src='https://cdnjs.cloudflare.com/ajax/libs/mathjax/2.7.3/latest.js?config=default'></script>"
            ],
            "text/plain": [
              "<IPython.core.display.HTML object>"
            ]
          },
          "metadata": {
            "tags": []
          }
        },
        {
          "output_type": "execute_result",
          "data": {
            "text/latex": "$$\\left[\\begin{matrix}0 & -4\\\\-4 & 4\\end{matrix}\\right]$$",
            "text/plain": [
              "⎡0   -4⎤\n",
              "⎢      ⎥\n",
              "⎣-4  4 ⎦"
            ]
          },
          "metadata": {
            "tags": []
          },
          "execution_count": 31
        },
        {
          "output_type": "stream",
          "text": [
            "A Hesse mátrix aldeterminánsai: \n"
          ],
          "name": "stdout"
        },
        {
          "output_type": "display_data",
          "data": {
            "text/html": [
              "<script src='https://cdnjs.cloudflare.com/ajax/libs/mathjax/2.7.3/latest.js?config=default'></script>"
            ],
            "text/plain": [
              "<IPython.core.display.HTML object>"
            ]
          },
          "metadata": {
            "tags": []
          }
        },
        {
          "output_type": "execute_result",
          "data": {
            "text/latex": "$$\\left [ 0, \\quad -16\\right ]$$",
            "text/plain": [
              "[0, -16]"
            ]
          },
          "metadata": {
            "tags": []
          },
          "execution_count": 31
        },
        {
          "output_type": "stream",
          "text": [
            "Előjelei: \n",
            "             ['0', '-']\n",
            "\n",
            " További vizsgálatra van szükség.\n"
          ],
          "name": "stdout"
        }
      ]
    },
    {
      "cell_type": "markdown",
      "metadata": {
        "id": "hHXeHpK07bsb",
        "colab_type": "text"
      },
      "source": [
        "## Feladat 8. Legyen $f(x,y):=x^2+10xy+y^2$. Határozzuk meg $f$ lokális szélsőértékeit."
      ]
    },
    {
      "cell_type": "code",
      "metadata": {
        "colab_type": "code",
        "outputId": "8a32e511-75eb-43e4-c1df-25fe32e3786b",
        "id": "5OoQ7fQvytYC",
        "colab": {
          "base_uri": "https://localhost:8080/",
          "height": 616
        }
      },
      "source": [
        "func = x**2 + 10 * x * y + y**2\n",
        "#func_latex = \n",
        "varlist = [x, y]\n",
        "dim = len(varlist)\n",
        "grad_list = gradient(func, varlist)\n",
        "grad_func = Matrix(grad_list)\n",
        "hesse_matrix = hessian(func, varlist)\n",
        "print(f'{func} szélsőértékei')\n",
        "print(\"grad(f) : \")\n",
        "grad_func\n",
        "Eq_list = ['NaN' for _ in range(dim)]\n",
        "roots = list(nonlinsolve(grad_list, varlist))\n",
        "if len(roots) == 0:\n",
        "    print(f'A {func} függvénynek nincs lokális szélsőértéke')\n",
        "    #draw_surface(func)\n",
        "    exit\n",
        "hesse_matrix = hessian(func, varlist)\n",
        "print(\"Hess(f) : \")\n",
        "hesse_matrix\n",
        "print(\"A\")\n",
        "Eq_list = ['NaN' for _ in range(dim)]\n",
        "for i in range(dim):\n",
        "    Eq_list[i] = Eq(grad_func[i])\n",
        "    Eq_list[i]\n",
        "print(\"egyenletrendszerből adódik, hogy\")\n",
        "number_of_roots = len(roots)\n",
        "for j in range(number_of_roots):\n",
        "    print(f'\\n {j + 1}. kritikus pont: ')\n",
        "    for k in range(dim):\n",
        "        print(f'               {varlist[k]} = {roots[j][k]}')\n",
        "    print('\\nA Hesse mátrix a kritikus pontban:')\n",
        "    hesse = hesse_matrix.subs([(varlist[k], roots[j][k]) for k in range(len(varlist))])\n",
        "    hesse\n",
        "    print(\"A Hesse mátrix aldeterminánsai: \")\n",
        "    aldet = ([hesse[0:m, 0:m].det() for m in range(1, dim+1)])\n",
        "    aldet\n",
        "    print(\"Előjelei: \")\n",
        "    aldet_sig_num = np.sign(aldet)\n",
        "    aldet_sig_str = [\"Nan\" for _ in range(dim) ]\n",
        "    for j in range(0,dim):\n",
        "        if aldet_sig_num[j] == -1:\n",
        "            aldet_sig_str[j] = \"-\"\n",
        "        elif aldet_sig_num[j] == 1:\n",
        "            aldet_sig_str[j] = \"+\"\n",
        "        else:\n",
        "            aldet_sig_str[j] = \"0\"\n",
        "    print(\"            \", aldet_sig_str)\n",
        "    aldet_sig_str_odd = aldet_sig_str[0::2]\n",
        "    aldet_sig_str_even = aldet_sig_str[1::2]\n",
        "    if sum(aldet_sig_num) == dim:\n",
        "        print(f'\\n A {func} függvénynek lokális minimuma van.')\n",
        "        #draw_surface(func, roots[j][0].evalf(), roots[j][1].evalf())\n",
        "        #return\n",
        "    elif (aldet_sig_str_odd.count(\"-\") == len(aldet_sig_str_odd)) \\\n",
        "        and (aldet_sig_str_even.count(\"+\") == len(aldet_sig_str_even)):\n",
        "        print(f'\\n A {func} függvénynek lokális maximuma van.')\n",
        "        #draw_surface(func, roots[j][0].evalf(), roots[j][1].evalf())\n",
        "        #draw_surface(func, -1.0, 0.0)\n",
        "        #return\n",
        "    elif ((\"+\" in aldet_sig_str) or (\"-\" in aldet_sig_str)) \\\n",
        "        and (\"0\" not in aldet_sig_str):\n",
        "        print(f'\\n A {func} függvénynek nyeregpontja van.')\n",
        "        #draw_surface(func, roots[j][0].evalf(), roots[j][1].evalf())\n",
        "        #return\n",
        "    else:\n",
        "        print(\"\\n További vizsgálatra van szükség.\")\n",
        "        #draw_surface(func, roots[j][0].evalf(), roots[j][1].evalf())"
      ],
      "execution_count": 32,
      "outputs": [
        {
          "output_type": "stream",
          "text": [
            "x**2 + 10*x*y + y**2 szélsőértékei\n",
            "grad(f) : \n"
          ],
          "name": "stdout"
        },
        {
          "output_type": "display_data",
          "data": {
            "text/html": [
              "<script src='https://cdnjs.cloudflare.com/ajax/libs/mathjax/2.7.3/latest.js?config=default'></script>"
            ],
            "text/plain": [
              "<IPython.core.display.HTML object>"
            ]
          },
          "metadata": {
            "tags": []
          }
        },
        {
          "output_type": "execute_result",
          "data": {
            "text/latex": "$$\\left[\\begin{matrix}2 x + 10 y\\\\10 x + 2 y\\end{matrix}\\right]$$",
            "text/plain": [
              "⎡2⋅x + 10⋅y⎤\n",
              "⎢          ⎥\n",
              "⎣10⋅x + 2⋅y⎦"
            ]
          },
          "metadata": {
            "tags": []
          },
          "execution_count": 32
        },
        {
          "output_type": "stream",
          "text": [
            "Hess(f) : \n"
          ],
          "name": "stdout"
        },
        {
          "output_type": "display_data",
          "data": {
            "text/html": [
              "<script src='https://cdnjs.cloudflare.com/ajax/libs/mathjax/2.7.3/latest.js?config=default'></script>"
            ],
            "text/plain": [
              "<IPython.core.display.HTML object>"
            ]
          },
          "metadata": {
            "tags": []
          }
        },
        {
          "output_type": "execute_result",
          "data": {
            "text/latex": "$$\\left[\\begin{matrix}2 & 10\\\\10 & 2\\end{matrix}\\right]$$",
            "text/plain": [
              "⎡2   10⎤\n",
              "⎢      ⎥\n",
              "⎣10  2 ⎦"
            ]
          },
          "metadata": {
            "tags": []
          },
          "execution_count": 32
        },
        {
          "output_type": "stream",
          "text": [
            "A\n"
          ],
          "name": "stdout"
        },
        {
          "output_type": "display_data",
          "data": {
            "text/html": [
              "<script src='https://cdnjs.cloudflare.com/ajax/libs/mathjax/2.7.3/latest.js?config=default'></script>"
            ],
            "text/plain": [
              "<IPython.core.display.HTML object>"
            ]
          },
          "metadata": {
            "tags": []
          }
        },
        {
          "output_type": "execute_result",
          "data": {
            "text/latex": "$$2 x + 10 y = 0$$",
            "text/plain": [
              "2⋅x + 10⋅y = 0"
            ]
          },
          "metadata": {
            "tags": []
          },
          "execution_count": 32
        },
        {
          "output_type": "display_data",
          "data": {
            "text/html": [
              "<script src='https://cdnjs.cloudflare.com/ajax/libs/mathjax/2.7.3/latest.js?config=default'></script>"
            ],
            "text/plain": [
              "<IPython.core.display.HTML object>"
            ]
          },
          "metadata": {
            "tags": []
          }
        },
        {
          "output_type": "execute_result",
          "data": {
            "text/latex": "$$10 x + 2 y = 0$$",
            "text/plain": [
              "10⋅x + 2⋅y = 0"
            ]
          },
          "metadata": {
            "tags": []
          },
          "execution_count": 32
        },
        {
          "output_type": "stream",
          "text": [
            "egyenletrendszerből adódik, hogy\n",
            "\n",
            " 1. kritikus pont: \n",
            "               x = 0\n",
            "               y = 0\n",
            "\n",
            "A Hesse mátrix a kritikus pontban:\n"
          ],
          "name": "stdout"
        },
        {
          "output_type": "display_data",
          "data": {
            "text/html": [
              "<script src='https://cdnjs.cloudflare.com/ajax/libs/mathjax/2.7.3/latest.js?config=default'></script>"
            ],
            "text/plain": [
              "<IPython.core.display.HTML object>"
            ]
          },
          "metadata": {
            "tags": []
          }
        },
        {
          "output_type": "execute_result",
          "data": {
            "text/latex": "$$\\left[\\begin{matrix}2 & 10\\\\10 & 2\\end{matrix}\\right]$$",
            "text/plain": [
              "⎡2   10⎤\n",
              "⎢      ⎥\n",
              "⎣10  2 ⎦"
            ]
          },
          "metadata": {
            "tags": []
          },
          "execution_count": 32
        },
        {
          "output_type": "stream",
          "text": [
            "A Hesse mátrix aldeterminánsai: \n"
          ],
          "name": "stdout"
        },
        {
          "output_type": "display_data",
          "data": {
            "text/html": [
              "<script src='https://cdnjs.cloudflare.com/ajax/libs/mathjax/2.7.3/latest.js?config=default'></script>"
            ],
            "text/plain": [
              "<IPython.core.display.HTML object>"
            ]
          },
          "metadata": {
            "tags": []
          }
        },
        {
          "output_type": "execute_result",
          "data": {
            "text/latex": "$$\\left [ 2, \\quad -96\\right ]$$",
            "text/plain": [
              "[2, -96]"
            ]
          },
          "metadata": {
            "tags": []
          },
          "execution_count": 32
        },
        {
          "output_type": "stream",
          "text": [
            "Előjelei: \n",
            "             ['+', '-']\n",
            "\n",
            " A x**2 + 10*x*y + y**2 függvénynek nyeregpontja van.\n"
          ],
          "name": "stdout"
        }
      ]
    },
    {
      "cell_type": "code",
      "metadata": {
        "id": "A1VGIR5ki6Tp",
        "colab_type": "code",
        "outputId": "c9cb2a3d-ae8c-4922-fccf-8a95d5aa5b97",
        "colab": {
          "base_uri": "https://localhost:8080/",
          "height": 16
        }
      },
      "source": [
        "%%html\n",
        "<script src=\"https://cdn.rawgit.com/parente/4c3e6936d0d7a46fd071/raw/65b816fb9bdd3c28b4ddf3af602bfd6015486383/code_toggle.js\"></script>"
      ],
      "execution_count": 0,
      "outputs": [
        {
          "output_type": "display_data",
          "data": {
            "text/html": [
              "<script src=\"https://cdn.rawgit.com/parente/4c3e6936d0d7a46fd071/raw/65b816fb9bdd3c28b4ddf3af602bfd6015486383/code_toggle.js\"></script>"
            ],
            "text/plain": [
              "<IPython.core.display.HTML object>"
            ]
          },
          "metadata": {
            "tags": []
          }
        }
      ]
    }
  ]
}