{
  "nbformat": 4,
  "nbformat_minor": 0,
  "metadata": {
    "colab": {
      "name": "MultiVariable Jacobi matrix.ipynb",
      "provenance": [],
      "collapsed_sections": [],
      "include_colab_link": true
    },
    "kernelspec": {
      "name": "python3",
      "display_name": "Python 3"
    }
  },
  "cells": [
    {
      "cell_type": "markdown",
      "metadata": {
        "id": "view-in-github",
        "colab_type": "text"
      },
      "source": [
        "<a href=\"https://colab.research.google.com/github/wesszabo/Analizis-2-informatikusoknak/blob/El%C5%91ad%C3%A1s/MultiVariable_Jacobi_matrix.ipynb\" target=\"_parent\"><img src=\"https://colab.research.google.com/assets/colab-badge.svg\" alt=\"Open In Colab\"/></a>"
      ]
    },
    {
      "cell_type": "markdown",
      "metadata": {
        "id": "jFELmKaHGe3m",
        "colab_type": "toc"
      },
      "source": [
        ">[Table of Contents](#scrollTo=laFoxSf1EXIo)\n",
        "\n",
        ">>[1 Jacobi mátrix](#scrollTo=L7dwXCLCSWWC)\n",
        "\n",
        ">>>[1.1 Példa](#scrollTo=FNKobSb6vRcA)\n",
        "\n"
      ]
    },
    {
      "cell_type": "code",
      "metadata": {
        "id": "nKoD9r5B6rsv",
        "colab_type": "code",
        "colab": {}
      },
      "source": [
        "###################  MODULOK "
      ],
      "execution_count": 0,
      "outputs": []
    },
    {
      "cell_type": "code",
      "metadata": {
        "id": "vsd3_xboSWVy",
        "colab_type": "code",
        "colab": {}
      },
      "source": [
        "from sympy import *\n",
        "ip = get_ipython()\n",
        "ibe = ip.configurables[-1]\n",
        "ibe.figure_formats = { 'pdf', 'png'}"
      ],
      "execution_count": 0,
      "outputs": []
    },
    {
      "cell_type": "code",
      "metadata": {
        "hide_input": false,
        "scrolled": false,
        "id": "ChG-9kIXSWV0",
        "colab_type": "code",
        "colab": {}
      },
      "source": [
        "%matplotlib inline\n",
        "import matplotlib.pyplot as plt\n",
        "from mpl_toolkits import mplot3d\n",
        "from IPython.display import HTML,Latex, display\n",
        "import requests\n",
        "import numpy as np\n",
        "import sympy as sym\n",
        "from sympy.solvers.solveset import solveset_real\n",
        "from sympy import exp, log, sin, cos, sqrt, Matrix, Function, limit, diff,\\\n",
        "symbols, hessian, latex, simplify\n",
        "from scipy import optimize\n",
        "#from numpy import pi, sin, cos\n",
        "import plotly.graph_objects as go\n",
        "from chart_studio.plotly import plot, iplot"
      ],
      "execution_count": 0,
      "outputs": []
    },
    {
      "cell_type": "code",
      "metadata": {
        "id": "4Afae6ce3qtr",
        "colab_type": "code",
        "colab": {}
      },
      "source": [
        "import plotly.io as pio\n",
        "pio.renderers.default = 'colab'"
      ],
      "execution_count": 0,
      "outputs": []
    },
    {
      "cell_type": "code",
      "metadata": {
        "id": "CgM88bZI60Oe",
        "colab_type": "code",
        "colab": {}
      },
      "source": [
        "#####################  BEÁLLÍTÁSOK "
      ],
      "execution_count": 0,
      "outputs": []
    },
    {
      "cell_type": "code",
      "metadata": {
        "scrolled": true,
        "id": "Ek2C2j2dSWV2",
        "colab_type": "code",
        "colab": {}
      },
      "source": [
        "# Sympy to print formula not TeX\n",
        "from sympy import init_printing\n",
        "def custom_latex_printer(exp,**options):\n",
        "    from google.colab.output._publish import javascript\n",
        "    url = \"https://cdnjs.cloudflare.com/ajax/libs/mathjax/2.7.3/latest.js?config=default\"\n",
        "    javascript(url=url)\n",
        "    return sym.printing.latex(exp,**options)\n",
        "init_printing(use_latex=\"mathjax\",latex_printer=custom_latex_printer)"
      ],
      "execution_count": 0,
      "outputs": []
    },
    {
      "cell_type": "code",
      "metadata": {
        "scrolled": true,
        "id": "vFq016MLSWV4",
        "colab_type": "code",
        "colab": {}
      },
      "source": [
        "x, y, z, alpha, beta = symbols('x y z alpha beta', real = True)\n",
        "a, m, r, theta = symbols('a m r theta', real = True) # parameters\n",
        "from sympy.abc import rho, phi"
      ],
      "execution_count": 0,
      "outputs": []
    },
    {
      "cell_type": "code",
      "metadata": {
        "id": "JjNFbAGAW_Cn",
        "colab_type": "code",
        "colab": {}
      },
      "source": [
        "############## TeX macros"
      ],
      "execution_count": 0,
      "outputs": []
    },
    {
      "cell_type": "markdown",
      "metadata": {
        "id": "XUqvcFhrXhXl",
        "colab_type": "text"
      },
      "source": [
        "grad, \n",
        "$\\newcommand{\\grad}{\\mathrm{grad}}$\n",
        "vec\n",
        "$\\newcommand{\\vec}[1]{\\mathbf{#1}}$"
      ]
    },
    {
      "cell_type": "code",
      "metadata": {
        "id": "N6aEJgeBB8Qj",
        "colab_type": "code",
        "colab": {}
      },
      "source": [
        "##############   SEGÉDFÜGGVÉNYEK"
      ],
      "execution_count": 0,
      "outputs": []
    },
    {
      "cell_type": "code",
      "metadata": {
        "id": "YdieuNaICBqo",
        "colab_type": "code",
        "colab": {}
      },
      "source": [
        "##############  GRADIENT "
      ],
      "execution_count": 0,
      "outputs": []
    },
    {
      "cell_type": "code",
      "metadata": {
        "id": "A72uEQ4Xso-0",
        "colab_type": "code",
        "cellView": "both",
        "colab": {}
      },
      "source": [
        "#@title\n",
        "def gradient(f, varlist):\n",
        "    grad = [diff(f, var) for var in varlist]\n",
        "    return grad        "
      ],
      "execution_count": 0,
      "outputs": []
    },
    {
      "cell_type": "code",
      "metadata": {
        "id": "cZKqc2FUCIAI",
        "colab_type": "code",
        "colab": {}
      },
      "source": [
        "##############  JACOBI "
      ],
      "execution_count": 0,
      "outputs": []
    },
    {
      "cell_type": "code",
      "metadata": {
        "id": "ZPJbB20wLl4C",
        "colab_type": "code",
        "cellView": "both",
        "colab": {}
      },
      "source": [
        "#@title\n",
        "def jacobi(funclist, varlist):\n",
        "    X = Matrix(funclist)\n",
        "    Y = Matrix(varlist)\n",
        "    return X.jacobian(Y)"
      ],
      "execution_count": 0,
      "outputs": []
    },
    {
      "cell_type": "markdown",
      "metadata": {
        "id": "laFoxSf1EXIo",
        "colab_type": "text"
      },
      "source": [
        "# Table of Contents"
      ]
    },
    {
      "cell_type": "markdown",
      "metadata": {
        "id": "L7dwXCLCSWWC",
        "colab_type": "text"
      },
      "source": [
        "## 1 Jacobi mátrix"
      ]
    },
    {
      "cell_type": "markdown",
      "metadata": {
        "id": "FNKobSb6vRcA",
        "colab_type": "text"
      },
      "source": [
        "###  1.1 Példa\n",
        "\n",
        "\n",
        "\n"
      ]
    },
    {
      "cell_type": "markdown",
      "metadata": {
        "collapsed": true,
        "hide_input": false,
        "scrolled": true,
        "solution2": "hidden",
        "solution2_first": true,
        "id": "zEg4Juu0SWWO",
        "colab_type": "text"
      },
      "source": [
        "<div class=\"exercises\">\n",
        "Legyen $\\mathbf{f}=(f_1,f_2)$,  ahol $f_1(\\varrho,\\varphi):=\\varrho \\cos(\\varphi)$, $f_2:=\\varrho\\sin(\\varphi)$. Határozzuk meg $\\mathbf{f}'(\\varrho,\\varphi)$-t.\n",
        "</div>"
      ]
    },
    {
      "cell_type": "code",
      "metadata": {
        "id": "WI8jMomW7pPp",
        "colab_type": "code",
        "colab": {
          "base_uri": "https://localhost:8080/",
          "height": 105
        },
        "outputId": "3634d385-f674-4f1c-8201-6638933a9502"
      },
      "source": [
        "f1 = rho*cos(phi)\n",
        "f2 = rho*sin(phi)\n",
        "funclist = [f1, f2]\n",
        "varlist = [rho, phi]\n",
        "polar_jacobi = jacobi(funclist, varlist)\n",
        "print('The Jacobi matrix is\\n')\n",
        "sym.pprint(polar_jacobi)"
      ],
      "execution_count": 94,
      "outputs": [
        {
          "output_type": "stream",
          "text": [
            "The Jacobi matrix is\n",
            "\n",
            "⎡cos(φ)  -ρ⋅sin(φ)⎤\n",
            "⎢                 ⎥\n",
            "⎣sin(φ)  ρ⋅cos(φ) ⎦\n"
          ],
          "name": "stdout"
        }
      ]
    },
    {
      "cell_type": "code",
      "metadata": {
        "id": "2qT1qH0hVfur",
        "colab_type": "code",
        "colab": {
          "base_uri": "https://localhost:8080/",
          "height": 16
        },
        "outputId": "ce90f721-8e17-47a8-8b5e-eba0b3b5cbd6"
      },
      "source": [
        "%%html\n",
        "<script src=\"https://cdn.rawgit.com/parente/4c3e6936d0d7a46fd071/raw/65b816fb9bdd3c28b4ddf3af602bfd6015486383/code_toggle.js\"></script>"
      ],
      "execution_count": 95,
      "outputs": [
        {
          "output_type": "display_data",
          "data": {
            "text/html": [
              "<script src=\"https://cdn.rawgit.com/parente/4c3e6936d0d7a46fd071/raw/65b816fb9bdd3c28b4ddf3af602bfd6015486383/code_toggle.js\"></script>"
            ],
            "text/plain": [
              "<IPython.core.display.HTML object>"
            ]
          },
          "metadata": {
            "tags": []
          }
        }
      ]
    }
  ]
}