{
  "nbformat": 4,
  "nbformat_minor": 0,
  "metadata": {
    "colab": {
      "name": "Multivariable gradient.ipynb",
      "provenance": [],
      "collapsed_sections": [],
      "include_colab_link": true
    },
    "kernelspec": {
      "name": "python3",
      "display_name": "Python 3"
    }
  },
  "cells": [
    {
      "cell_type": "markdown",
      "metadata": {
        "id": "view-in-github",
        "colab_type": "text"
      },
      "source": [
        "<a href=\"https://colab.research.google.com/github/wesszabo/Analizis-2-informatikusoknak/blob/Gyakorlat/Multivariable_gradient.ipynb\" target=\"_parent\"><img src=\"https://colab.research.google.com/assets/colab-badge.svg\" alt=\"Open In Colab\"/></a>"
      ]
    },
    {
      "cell_type": "markdown",
      "metadata": {
        "id": "jFELmKaHGe3m",
        "colab_type": "toc"
      },
      "source": [
        ">[Settings](#scrollTo=9lYCVrZzyTv8)\n",
        "\n",
        ">>[UTF-8 encoding](#scrollTo=6EEYXCrzegH7)\n",
        "\n",
        ">>[Import needed modules](#scrollTo=hSwsb42jFA9O)\n",
        "\n",
        ">>[Jupyter to print the results for any variable or statement on it’s own line](#scrollTo=EKv-NQ5WsDTl)\n",
        "\n",
        ">>[Matplotlib customization](#scrollTo=UWko5SYdkRsO)\n",
        "\n",
        ">>[Versions](#scrollTo=LSFQ9iqfFRFn)\n",
        "\n",
        ">[Gradient](#scrollTo=HXT5esCBskVw)\n",
        "\n",
        ">>[Exercise 1.](#scrollTo=sdHeMEknJ5KX)\n",
        "\n",
        ">>[Exercise 2.](#scrollTo=XMpOwg0WMnlY)\n",
        "\n",
        ">>[Exercise 3.](#scrollTo=ZFsfnFa9VR9C)\n",
        "\n",
        ">>[Exercise 4.](#scrollTo=2v_B2ywCWpy6)\n",
        "\n",
        ">>[Exercise 5.](#scrollTo=Ua2BSS70J88n)\n",
        "\n",
        ">>[Exercise 6.](#scrollTo=AArdk0qPZaut)\n",
        "\n",
        ">>[Exercise 7.](#scrollTo=VLJDh2R1hBsd)\n",
        "\n"
      ]
    },
    {
      "cell_type": "markdown",
      "metadata": {
        "id": "9lYCVrZzyTv8",
        "colab_type": "text"
      },
      "source": [
        "# **Settings**"
      ]
    },
    {
      "cell_type": "markdown",
      "metadata": {
        "id": "6EEYXCrzegH7",
        "colab_type": "text"
      },
      "source": [
        "## **UTF-8 encoding**"
      ]
    },
    {
      "cell_type": "code",
      "metadata": {
        "id": "kJ5-fAePedh2",
        "colab_type": "code",
        "cellView": "form",
        "colab": {}
      },
      "source": [
        "#@title\n",
        "# -*- coding: UTF-8 -*-"
      ],
      "execution_count": 0,
      "outputs": []
    },
    {
      "cell_type": "markdown",
      "metadata": {
        "id": "hSwsb42jFA9O",
        "colab_type": "text"
      },
      "source": [
        "## **Import needed modules**"
      ]
    },
    {
      "cell_type": "code",
      "metadata": {
        "id": "wtPAPY04wQAc",
        "colab_type": "code",
        "cellView": "form",
        "colab": {}
      },
      "source": [
        "#@title\n",
        "import numpy as np\n",
        "import math\n",
        "from fractions import Fraction\n",
        "from IPython.display import display, HTML\n",
        "import matplotlib.pyplot as plt\n",
        "from pprint import pprint \n",
        "\n",
        "import sympy as sym\n",
        "from sympy import exp, log, sin, cos, sqrt, Matrix, Function, limit, diff,\\\n",
        "symbols, hessian, latex, simplify\n",
        "x, y, z, u, v, t, x1, x2, x3 = sym.symbols(\"x, y, z, u, v, t, x1, x2, x3\")\n",
        "f, g, h = sym.symbols('f g h', cls=Function)\n",
        "from sympy.abc import rho, phi\n",
        "from sympy import *\n",
        "\n",
        "# Sympy to print formula not TeX\n",
        "from sympy import init_printing\n",
        "def custom_latex_printer(exp,**options):\n",
        "    from google.colab.output._publish import javascript\n",
        "    url = \"https://cdnjs.cloudflare.com/ajax/libs/mathjax/2.7.3/latest.js?config=default\"\n",
        "    javascript(url=url)\n",
        "    return sym.printing.latex(exp,**options)\n",
        "init_printing(use_latex=\"mathjax\",latex_printer=custom_latex_printer)"
      ],
      "execution_count": 0,
      "outputs": []
    },
    {
      "cell_type": "markdown",
      "metadata": {
        "id": "EKv-NQ5WsDTl",
        "colab_type": "text"
      },
      "source": [
        "## **Jupyter to print the results for any variable or statement on it’s own line**"
      ]
    },
    {
      "cell_type": "code",
      "metadata": {
        "id": "jeTPbZOoqh5Q",
        "colab_type": "code",
        "cellView": "form",
        "colab": {}
      },
      "source": [
        "#@title\n",
        "from IPython.core.interactiveshell import InteractiveShell\n",
        "InteractiveShell.ast_node_interactivity = \"all\""
      ],
      "execution_count": 0,
      "outputs": []
    },
    {
      "cell_type": "markdown",
      "metadata": {
        "id": "LSFQ9iqfFRFn",
        "colab_type": "text"
      },
      "source": [
        "## **Versions**"
      ]
    },
    {
      "cell_type": "code",
      "metadata": {
        "id": "YmQf6K6zbwbD",
        "colab_type": "code",
        "outputId": "c811f4ef-6e60-4670-d810-bd27c6d9d37b",
        "cellView": "form",
        "colab": {
          "base_uri": "https://localhost:8080/",
          "height": 171
        }
      },
      "source": [
        "#@title\n",
        "!pip install --upgrade version_information"
      ],
      "execution_count": 0,
      "outputs": [
        {
          "output_type": "stream",
          "text": [
            "Collecting version_information\n",
            "  Downloading https://files.pythonhosted.org/packages/ff/b0/6088e15b9ac43a08ccd300d68e0b900a20cf62077596c11ad11dd8cc9e4b/version_information-1.0.3.tar.gz\n",
            "Building wheels for collected packages: version-information\n",
            "  Running setup.py bdist_wheel for version-information ... \u001b[?25l-\b \bdone\n",
            "\u001b[?25h  Stored in directory: /root/.cache/pip/wheels/1f/4c/b3/1976ac11dbd802723b564de1acaa453a72c36c95827e576321\n",
            "Successfully built version-information\n",
            "Installing collected packages: version-information\n",
            "Successfully installed version-information-1.0.3\n"
          ],
          "name": "stdout"
        }
      ]
    },
    {
      "cell_type": "code",
      "metadata": {
        "id": "qpM4QEn8b_LH",
        "colab_type": "code",
        "outputId": "7424e321-dc46-46d2-ad98-d992814956de",
        "cellView": "form",
        "colab": {
          "base_uri": "https://localhost:8080/",
          "height": 238
        }
      },
      "source": [
        "#@title\n",
        "%load_ext version_information\n",
        "\n",
        "%version_information numpy, scipy, IPython, matplotlib, seaborn, version_information"
      ],
      "execution_count": 0,
      "outputs": [
        {
          "output_type": "execute_result",
          "data": {
            "text/latex": "\\begin{tabular}{|l|l|}\\hline\n{\\bf Software} & {\\bf Version} \\\\ \\hline\\hline\nPython & 3.6.6 64bit [GCC 8.0.1 20180414 (experimental) [trunk revision 259383] \\\\ \\hline\nIPython & 5.5.0 \\\\ \\hline\nOS & Linux 4.14.65+ x86\\_64 with Ubuntu 18.04 bionic \\\\ \\hline\nnumpy & 1.14.6 \\\\ \\hline\nscipy & 0.19.1 \\\\ \\hline\nIPython & 5.5.0 \\\\ \\hline\nmatplotlib & 2.1.2 \\\\ \\hline\nseaborn & 0.7.1 \\\\ \\hline\nversion_information & 1.0.3 \\\\ \\hline\n\\hline \\multicolumn{2}{|l|}{Mon Oct 29 10:24:17 2018 UTC} \\\\ \\hline\n\\end{tabular}\n",
            "application/json": {
              "Software versions": [
                {
                  "version": "3.6.6 64bit [GCC 8.0.1 20180414 (experimental) [trunk revision 259383]",
                  "module": "Python"
                },
                {
                  "version": "5.5.0",
                  "module": "IPython"
                },
                {
                  "version": "Linux 4.14.65+ x86_64 with Ubuntu 18.04 bionic",
                  "module": "OS"
                },
                {
                  "version": "1.14.6",
                  "module": "numpy"
                },
                {
                  "version": "0.19.1",
                  "module": "scipy"
                },
                {
                  "version": "5.5.0",
                  "module": "IPython"
                },
                {
                  "version": "2.1.2",
                  "module": "matplotlib"
                },
                {
                  "version": "0.7.1",
                  "module": "seaborn"
                },
                {
                  "version": "1.0.3",
                  "module": "version_information"
                }
              ]
            },
            "text/html": [
              "<table><tr><th>Software</th><th>Version</th></tr><tr><td>Python</td><td>3.6.6 64bit [GCC 8.0.1 20180414 (experimental) [trunk revision 259383]</td></tr><tr><td>IPython</td><td>5.5.0</td></tr><tr><td>OS</td><td>Linux 4.14.65+ x86_64 with Ubuntu 18.04 bionic</td></tr><tr><td>numpy</td><td>1.14.6</td></tr><tr><td>scipy</td><td>0.19.1</td></tr><tr><td>IPython</td><td>5.5.0</td></tr><tr><td>matplotlib</td><td>2.1.2</td></tr><tr><td>seaborn</td><td>0.7.1</td></tr><tr><td>version_information</td><td>1.0.3</td></tr><tr><td colspan='2'>Mon Oct 29 10:24:17 2018 UTC</td></tr></table>"
            ],
            "text/plain": [
              "Software versions\n",
              "Python 3.6.6 64bit [GCC 8.0.1 20180414 (experimental) [trunk revision 259383]\n",
              "IPython 5.5.0\n",
              "OS Linux 4.14.65+ x86_64 with Ubuntu 18.04 bionic\n",
              "numpy 1.14.6\n",
              "scipy 0.19.1\n",
              "IPython 5.5.0\n",
              "matplotlib 2.1.2\n",
              "seaborn 0.7.1\n",
              "version_information 1.0.3\n",
              "Mon Oct 29 10:24:17 2018 UTC"
            ]
          },
          "metadata": {
            "tags": []
          },
          "execution_count": 7
        }
      ]
    },
    {
      "cell_type": "markdown",
      "metadata": {
        "id": "HXT5esCBskVw",
        "colab_type": "text"
      },
      "source": [
        "# **Gradient**"
      ]
    },
    {
      "cell_type": "code",
      "metadata": {
        "id": "A72uEQ4Xso-0",
        "colab_type": "code",
        "cellView": "form",
        "colab": {}
      },
      "source": [
        "#@title\n",
        "def gradient(f, varlist):\n",
        "    grad = [diff(f, var) for var in varlist]\n",
        "    return grad        "
      ],
      "execution_count": 0,
      "outputs": []
    },
    {
      "cell_type": "markdown",
      "metadata": {
        "id": "sdHeMEknJ5KX",
        "colab_type": "text"
      },
      "source": [
        "## Exercise 1.\n",
        "Legyen $\\mathbf{r}=(x,y,z)\\in\\mathbf{R}^3$, $f(\\mathbf{r}):=\\Vert\\mathbf{r}\\Vert$. Határozzuk meg $\\text{grad}f(\\mathbf{r})$-t."
      ]
    },
    {
      "cell_type": "code",
      "metadata": {
        "id": "RtKuo3ghKaiI",
        "colab_type": "code",
        "cellView": "form",
        "outputId": "0be47901-4edc-4f7e-d261-7a7e3a442f49",
        "colab": {
          "base_uri": "https://localhost:8080/",
          "height": 90
        }
      },
      "source": [
        "#@title\n",
        "half = Fraction(1, 2)\n",
        "fr = (x**2 + y**2 + z**2)**half\n",
        "gradient(fr, [x, y, z])"
      ],
      "execution_count": 0,
      "outputs": [
        {
          "output_type": "display_data",
          "data": {
            "text/html": [
              "<script src='https://cdnjs.cloudflare.com/ajax/libs/mathjax/2.7.3/latest.js?config=default'></script>"
            ],
            "text/plain": [
              "<IPython.core.display.HTML object>"
            ]
          },
          "metadata": {
            "tags": []
          }
        },
        {
          "output_type": "execute_result",
          "data": {
            "text/latex": "$$\\left [ \\frac{x}{\\sqrt{x^{2} + y^{2} + z^{2}}}, \\quad \\frac{y}{\\sqrt{x^{2} + y^{2} + z^{2}}}, \\quad \\frac{z}{\\sqrt{x^{2} + y^{2} + z^{2}}}\\right ]$$",
            "text/plain": [
              "⎡        x                  y                  z        ⎤\n",
              "⎢─────────────────, ─────────────────, ─────────────────⎥\n",
              "⎢   ______________     ______________     ______________⎥\n",
              "⎢  ╱  2    2    2     ╱  2    2    2     ╱  2    2    2 ⎥\n",
              "⎣╲╱  x  + y  + z    ╲╱  x  + y  + z    ╲╱  x  + y  + z  ⎦"
            ]
          },
          "metadata": {
            "tags": []
          },
          "execution_count": 6
        }
      ]
    },
    {
      "cell_type": "markdown",
      "metadata": {
        "id": "nbi0NgsQLoqJ",
        "colab_type": "text"
      },
      "source": [
        "$\\text{grad}f(\\mathbf{r})=\\dfrac{\\mathbf{r}}{||\\mathbf{r}||}\\,$."
      ]
    },
    {
      "cell_type": "markdown",
      "metadata": {
        "id": "XMpOwg0WMnlY",
        "colab_type": "text"
      },
      "source": [
        "## Exercise 2.\n",
        "Legyen $\\mathbf{r}=(x,y,z)\\in\\mathbf{R}^3$, $f(\\mathbf{r}):=\\frac{1}{\\Vert\\mathbf{r}\\Vert}$. Határozzuk meg $\\text{grad}f(\\mathbf{r})$-t."
      ]
    },
    {
      "cell_type": "code",
      "metadata": {
        "id": "_CutQQqLM4kf",
        "colab_type": "code",
        "cellView": "form",
        "outputId": "a102ce8c-703b-4dd9-b4f6-055b324c6cd7",
        "colab": {
          "base_uri": "https://localhost:8080/",
          "height": 97
        }
      },
      "source": [
        "#@title\n",
        "half = Fraction(-1, 2)\n",
        "fr = (x**2 + y**2 + z**2)**half\n",
        "gradient(fr, [x, y, z])"
      ],
      "execution_count": 0,
      "outputs": [
        {
          "output_type": "display_data",
          "data": {
            "text/html": [
              "<script src='https://cdnjs.cloudflare.com/ajax/libs/mathjax/2.7.3/latest.js?config=default'></script>"
            ],
            "text/plain": [
              "<IPython.core.display.HTML object>"
            ]
          },
          "metadata": {
            "tags": []
          }
        },
        {
          "output_type": "execute_result",
          "data": {
            "text/latex": "$$\\left [ - \\frac{x}{\\left(x^{2} + y^{2} + z^{2}\\right)^{\\frac{3}{2}}}, \\quad - \\frac{y}{\\left(x^{2} + y^{2} + z^{2}\\right)^{\\frac{3}{2}}}, \\quad - \\frac{z}{\\left(x^{2} + y^{2} + z^{2}\\right)^{\\frac{3}{2}}}\\right ]$$",
            "text/plain": [
              "⎡       -x                 -y                 -z        ⎤\n",
              "⎢─────────────────, ─────────────────, ─────────────────⎥\n",
              "⎢              3/2                3/2                3/2⎥\n",
              "⎢⎛ 2    2    2⎞     ⎛ 2    2    2⎞     ⎛ 2    2    2⎞   ⎥\n",
              "⎣⎝x  + y  + z ⎠     ⎝x  + y  + z ⎠     ⎝x  + y  + z ⎠   ⎦"
            ]
          },
          "metadata": {
            "tags": []
          },
          "execution_count": 7
        }
      ]
    },
    {
      "cell_type": "markdown",
      "metadata": {
        "id": "MYPLmECUNLUP",
        "colab_type": "text"
      },
      "source": [
        "$\\text{grad}f(\\mathbf{r})=-\\dfrac{\\mathbf{r}}{\\Vert\\mathbf{r}\\Vert^3}$."
      ]
    },
    {
      "cell_type": "markdown",
      "metadata": {
        "colab_type": "text",
        "id": "ZFsfnFa9VR9C"
      },
      "source": [
        "## Exercise 3.\n",
        "Legyen $\\mathbf{r}=(x,y,z)\\in\\mathbf{R}^3$, $f(\\mathbf{r}):=\\log\\Vert\\mathbf{r}\\Vert$. Határozzuk meg $\\text{grad}f(\\mathbf{r})$-t."
      ]
    },
    {
      "cell_type": "code",
      "metadata": {
        "colab_type": "code",
        "outputId": "f5f7bc9f-fccc-4b6d-c76c-ee0c5d1e7328",
        "id": "yY73zXshVR9I",
        "cellView": "form",
        "colab": {
          "base_uri": "https://localhost:8080/",
          "height": 82
        }
      },
      "source": [
        "#@title\n",
        "half = Fraction(1, 2)\n",
        "fr = log((x**2 + y**2 + z**2)**half)\n",
        "gradient(fr, [x, y, z])"
      ],
      "execution_count": 0,
      "outputs": [
        {
          "output_type": "display_data",
          "data": {
            "text/html": [
              "<script src='https://cdnjs.cloudflare.com/ajax/libs/mathjax/2.7.3/latest.js?config=default'></script>"
            ],
            "text/plain": [
              "<IPython.core.display.HTML object>"
            ]
          },
          "metadata": {
            "tags": []
          }
        },
        {
          "output_type": "execute_result",
          "data": {
            "text/latex": "$$\\left [ \\frac{x}{x^{2} + y^{2} + z^{2}}, \\quad \\frac{y}{x^{2} + y^{2} + z^{2}}, \\quad \\frac{z}{x^{2} + y^{2} + z^{2}}\\right ]$$",
            "text/plain": [
              "⎡     x             y             z      ⎤\n",
              "⎢────────────, ────────────, ────────────⎥\n",
              "⎢ 2    2    2   2    2    2   2    2    2⎥\n",
              "⎣x  + y  + z   x  + y  + z   x  + y  + z ⎦"
            ]
          },
          "metadata": {
            "tags": []
          },
          "execution_count": 9
        }
      ]
    },
    {
      "cell_type": "markdown",
      "metadata": {
        "colab_type": "text",
        "id": "3LEk8ERxVR9M"
      },
      "source": [
        "$\\text{grad}f(\\mathbf{r})=\\dfrac{\\mathbf{r}}{\\Vert\\mathbf{r}\\Vert^2}$."
      ]
    },
    {
      "cell_type": "markdown",
      "metadata": {
        "colab_type": "text",
        "id": "2v_B2ywCWpy6"
      },
      "source": [
        "## Exercise 4.\n",
        "Legyen $\\mathbf{r}=(x,y,z)\\in\\mathbf{R}^3$, $f(\\mathbf{r}):=e^{\\Vert\\mathbf{r}\\Vert}$. Határozzuk meg $\\text{grad}f(\\mathbf{r})$-t."
      ]
    },
    {
      "cell_type": "code",
      "metadata": {
        "colab_type": "code",
        "outputId": "c9a6baf8-8137-4a90-c942-f13480a525fd",
        "id": "Usv70j8HWpy7",
        "cellView": "form",
        "colab": {
          "base_uri": "https://localhost:8080/",
          "height": 100
        }
      },
      "source": [
        "#@title\n",
        "half = Fraction(1, 2)\n",
        "fr = exp((x**2 + y**2 + z**2)**half)\n",
        "gradient(fr, [x, y, z])"
      ],
      "execution_count": 0,
      "outputs": [
        {
          "output_type": "display_data",
          "data": {
            "text/html": [
              "<script src='https://cdnjs.cloudflare.com/ajax/libs/mathjax/2.7.3/latest.js?config=default'></script>"
            ],
            "text/plain": [
              "<IPython.core.display.HTML object>"
            ]
          },
          "metadata": {
            "tags": []
          }
        },
        {
          "output_type": "execute_result",
          "data": {
            "text/latex": "$$\\left [ \\frac{x e^{\\sqrt{x^{2} + y^{2} + z^{2}}}}{\\sqrt{x^{2} + y^{2} + z^{2}}}, \\quad \\frac{y e^{\\sqrt{x^{2} + y^{2} + z^{2}}}}{\\sqrt{x^{2} + y^{2} + z^{2}}}, \\quad \\frac{z e^{\\sqrt{x^{2} + y^{2} + z^{2}}}}{\\sqrt{x^{2} + y^{2} + z^{2}}}\\right ]$$",
            "text/plain": [
              "⎡      ______________        ______________        ______________⎤\n",
              "⎢     ╱  2    2    2        ╱  2    2    2        ╱  2    2    2 ⎥\n",
              "⎢   ╲╱  x  + y  + z       ╲╱  x  + y  + z       ╲╱  x  + y  + z  ⎥\n",
              "⎢x⋅ℯ                   y⋅ℯ                   z⋅ℯ                 ⎥\n",
              "⎢────────────────────, ────────────────────, ────────────────────⎥\n",
              "⎢    ______________        ______________        ______________  ⎥\n",
              "⎢   ╱  2    2    2        ╱  2    2    2        ╱  2    2    2   ⎥\n",
              "⎣ ╲╱  x  + y  + z       ╲╱  x  + y  + z       ╲╱  x  + y  + z    ⎦"
            ]
          },
          "metadata": {
            "tags": []
          },
          "execution_count": 10
        }
      ]
    },
    {
      "cell_type": "markdown",
      "metadata": {
        "colab_type": "text",
        "id": "kshDe4F5Wpy9"
      },
      "source": [
        "$\\text{grad}f(\\mathbf{r})=\\dfrac{e^{\\Vert\\mathbf{r}\\Vert}}{\\Vert\\mathbf{r}\\Vert^2}\\mathbf{r}$."
      ]
    },
    {
      "cell_type": "markdown",
      "metadata": {
        "colab_type": "text",
        "id": "Ua2BSS70J88n"
      },
      "source": [
        "## Exercise 5.\n",
        "\n",
        "Legyen $\\mathbf{x},\\mathbf{b}\\in\\mathbf{R}^n$, $A\\in L(\\mathbf{R}^n, \\mathbf{R}^n)$, és\n",
        "\n",
        "$$\n",
        "f(\\mathbf{x}):= \\Vert A\\mathbf{x}-\\mathbf{b}\\Vert^2,\n",
        "$$\n",
        "\n",
        "ahol $\\Vert\\cdot\\Vert$ az euklideszi norma. \n",
        "Határozzuk meg $\\text{grad}f(\\mathbf{x})$-t."
      ]
    },
    {
      "cell_type": "markdown",
      "metadata": {
        "id": "X79tdskOXy4n",
        "colab_type": "text"
      },
      "source": [
        "$\\text{grad}f(\\mathbf{x})=2 A^T(A\\mathbf{x}-\\mathbf{b})$."
      ]
    },
    {
      "cell_type": "markdown",
      "metadata": {
        "colab_type": "text",
        "id": "AArdk0qPZaut"
      },
      "source": [
        "## Exercise 6.\n",
        "\n",
        "Legyen $\\mathbf{x},\\mathbf{a}\\in\\mathbf{R}^n$, és\n",
        "\n",
        "$$\n",
        "f(\\mathbf{x}):=\\langle \\mathbf{a}, \\mathbf{x}\\rangle\n",
        "$$\n",
        "\n",
        "Határozzuk meg $\\text{grad}f(\\mathbf{x})$-t."
      ]
    },
    {
      "cell_type": "markdown",
      "metadata": {
        "id": "vKxhfA9_aTvW",
        "colab_type": "text"
      },
      "source": [
        "$\\text{grad}f(\\mathbf{x})=\\mathbf{a}$."
      ]
    },
    {
      "cell_type": "markdown",
      "metadata": {
        "id": "VLJDh2R1hBsd",
        "colab_type": "text"
      },
      "source": [
        "## Exercise 7.\n",
        "Legyen \n",
        "\n",
        "$$\n",
        "A:=\n",
        "\\left[ \n",
        "\\begin{array}{rrr}\n",
        "0 & 0 &-2\\\\\n",
        "1 & 2 & 1\\\\\n",
        "1 & 0 & 3\n",
        "\\end{array}\n",
        "\\right].\n",
        "$$\n",
        "\n",
        "Határozzuk meg a sajátértékeket és a sajátvektorokat."
      ]
    },
    {
      "cell_type": "code",
      "metadata": {
        "id": "t9SM8KtzsmPM",
        "colab_type": "code",
        "cellView": "form",
        "outputId": "b410189c-f2fc-4004-9753-a7a1301bf126",
        "colab": {
          "base_uri": "https://localhost:8080/",
          "height": 257
        }
      },
      "source": [
        "#@title\n",
        "A = Matrix([[0, 0, -2], [1, 2, 1], [1, 0, 3]])\n",
        "Slist = A.eigenvects()\n",
        "print(\"Sajátérték:\", Slist[0][0], \"\\nSajátvektor: \")\n",
        "Slist[0][2][0]\n",
        "print(\"Sajátérték:\", Slist[1][0], \"\\nSajátvektorok: \")\n",
        "Slist[1][2][0], Slist[1][2][1]"
      ],
      "execution_count": 0,
      "outputs": [
        {
          "output_type": "stream",
          "text": [
            "Sajátérték: 1 \n",
            "Sajátvektor: \n"
          ],
          "name": "stdout"
        },
        {
          "output_type": "display_data",
          "data": {
            "text/html": [
              "<script src='https://cdnjs.cloudflare.com/ajax/libs/mathjax/2.7.3/latest.js?config=default'></script>"
            ],
            "text/plain": [
              "<IPython.core.display.HTML object>"
            ]
          },
          "metadata": {
            "tags": []
          }
        },
        {
          "output_type": "execute_result",
          "data": {
            "text/latex": "$$\\left[\\begin{matrix}-2\\\\1\\\\1\\end{matrix}\\right]$$",
            "text/plain": [
              "⎡-2⎤\n",
              "⎢  ⎥\n",
              "⎢1 ⎥\n",
              "⎢  ⎥\n",
              "⎣1 ⎦"
            ]
          },
          "metadata": {
            "tags": []
          },
          "execution_count": 44
        },
        {
          "output_type": "stream",
          "text": [
            "Sajátérték: 2 \n",
            "Sajátvektorok: \n"
          ],
          "name": "stdout"
        },
        {
          "output_type": "display_data",
          "data": {
            "text/html": [
              "<script src='https://cdnjs.cloudflare.com/ajax/libs/mathjax/2.7.3/latest.js?config=default'></script>"
            ],
            "text/plain": [
              "<IPython.core.display.HTML object>"
            ]
          },
          "metadata": {
            "tags": []
          }
        },
        {
          "output_type": "execute_result",
          "data": {
            "text/latex": "$$\\left ( \\left[\\begin{matrix}0\\\\1\\\\0\\end{matrix}\\right], \\quad \\left[\\begin{matrix}-1\\\\0\\\\1\\end{matrix}\\right]\\right )$$",
            "text/plain": [
              "⎛⎡0⎤  ⎡-1⎤⎞\n",
              "⎜⎢ ⎥  ⎢  ⎥⎟\n",
              "⎜⎢1⎥, ⎢0 ⎥⎟\n",
              "⎜⎢ ⎥  ⎢  ⎥⎟\n",
              "⎝⎣0⎦  ⎣1 ⎦⎠"
            ]
          },
          "metadata": {
            "tags": []
          },
          "execution_count": 44
        }
      ]
    },
    {
      "cell_type": "code",
      "metadata": {
        "id": "xeyU1Danys-N",
        "colab_type": "code",
        "colab": {}
      },
      "source": [
        ""
      ],
      "execution_count": 0,
      "outputs": []
    }
  ]
}