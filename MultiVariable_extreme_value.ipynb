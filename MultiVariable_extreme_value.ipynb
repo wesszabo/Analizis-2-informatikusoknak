{
  "nbformat": 4,
  "nbformat_minor": 0,
  "metadata": {
    "colab": {
      "name": "MultiVariable extreme value.ipynb",
      "provenance": [],
      "collapsed_sections": [],
      "include_colab_link": true
    },
    "kernelspec": {
      "name": "python3",
      "display_name": "Python 3"
    }
  },
  "cells": [
    {
      "cell_type": "markdown",
      "metadata": {
        "id": "view-in-github",
        "colab_type": "text"
      },
      "source": [
        "<a href=\"https://colab.research.google.com/github/wesszabo/Analizis-2-informatikusoknak/blob/El%C5%91ad%C3%A1s/MultiVariable_extreme_value.ipynb\" target=\"_parent\"><img src=\"https://colab.research.google.com/assets/colab-badge.svg\" alt=\"Open In Colab\"/></a>"
      ]
    },
    {
      "cell_type": "markdown",
      "metadata": {
        "id": "jFELmKaHGe3m",
        "colab_type": "toc"
      },
      "source": [
        ">[Table of Contents](#scrollTo=laFoxSf1EXIo)\n",
        "\n",
        ">[Szélsőérték számítás](#scrollTo=fs-pYKHiSWWf)\n",
        "\n"
      ]
    },
    {
      "cell_type": "code",
      "metadata": {
        "id": "nKoD9r5B6rsv",
        "colab_type": "code",
        "colab": {}
      },
      "source": [
        "###################  MODULOK "
      ],
      "execution_count": 0,
      "outputs": []
    },
    {
      "cell_type": "code",
      "metadata": {
        "id": "vsd3_xboSWVy",
        "colab_type": "code",
        "colab": {}
      },
      "source": [
        "from sympy import *\n",
        "ip = get_ipython()\n",
        "ibe = ip.configurables[-1]\n",
        "ibe.figure_formats = { 'pdf', 'png'}"
      ],
      "execution_count": 0,
      "outputs": []
    },
    {
      "cell_type": "code",
      "metadata": {
        "hide_input": false,
        "scrolled": false,
        "id": "ChG-9kIXSWV0",
        "colab_type": "code",
        "colab": {}
      },
      "source": [
        "%matplotlib inline\n",
        "import matplotlib.pyplot as plt\n",
        "from mpl_toolkits import mplot3d\n",
        "from IPython.display import HTML,Latex, display\n",
        "import requests\n",
        "import numpy as np\n",
        "import sympy as sym\n",
        "from sympy.solvers.solveset import solveset_real\n",
        "from sympy import exp, log, sin, cos, sqrt, Matrix, Function, limit, diff,\\\n",
        "symbols, hessian, latex, simplify\n",
        "from scipy import optimize\n",
        "#from numpy import pi, sin, cos\n",
        "import plotly.graph_objects as go\n",
        "from chart_studio.plotly import plot, iplot"
      ],
      "execution_count": 0,
      "outputs": []
    },
    {
      "cell_type": "code",
      "metadata": {
        "id": "4Afae6ce3qtr",
        "colab_type": "code",
        "colab": {}
      },
      "source": [
        "import plotly.io as pio\n",
        "pio.renderers.default = 'colab'"
      ],
      "execution_count": 0,
      "outputs": []
    },
    {
      "cell_type": "code",
      "metadata": {
        "id": "CgM88bZI60Oe",
        "colab_type": "code",
        "colab": {}
      },
      "source": [
        "#####################  BEÁLLÍTÁSOK "
      ],
      "execution_count": 0,
      "outputs": []
    },
    {
      "cell_type": "code",
      "metadata": {
        "scrolled": true,
        "id": "Ek2C2j2dSWV2",
        "colab_type": "code",
        "colab": {}
      },
      "source": [
        "# Sympy to print formula not TeX\n",
        "from sympy import init_printing\n",
        "def custom_latex_printer(exp,**options):\n",
        "    from google.colab.output._publish import javascript\n",
        "    url = \"https://cdnjs.cloudflare.com/ajax/libs/mathjax/2.7.3/latest.js?config=default\"\n",
        "    javascript(url=url)\n",
        "    return sym.printing.latex(exp,**options)\n",
        "init_printing(use_latex=\"mathjax\",latex_printer=custom_latex_printer)"
      ],
      "execution_count": 0,
      "outputs": []
    },
    {
      "cell_type": "code",
      "metadata": {
        "scrolled": true,
        "id": "vFq016MLSWV4",
        "colab_type": "code",
        "colab": {}
      },
      "source": [
        "x, y, z, alpha, beta = symbols('x y z alpha beta', real = True)\n",
        "a, m, r, theta = symbols('a m r theta', real = True) # parameters\n",
        "from sympy.abc import rho, phi"
      ],
      "execution_count": 0,
      "outputs": []
    },
    {
      "cell_type": "code",
      "metadata": {
        "id": "JjNFbAGAW_Cn",
        "colab_type": "code",
        "colab": {}
      },
      "source": [
        "############## TeX macros"
      ],
      "execution_count": 0,
      "outputs": []
    },
    {
      "cell_type": "markdown",
      "metadata": {
        "id": "XUqvcFhrXhXl",
        "colab_type": "text"
      },
      "source": [
        "$\\newcommand{\\grad}{\\mathrm{grad}}$\n",
        "$\\newcommand{\\vec}[1]{\\mathbf{#1}}$"
      ]
    },
    {
      "cell_type": "code",
      "metadata": {
        "id": "N6aEJgeBB8Qj",
        "colab_type": "code",
        "colab": {}
      },
      "source": [
        "##############   SEGÉDFÜGGVÉNYEK"
      ],
      "execution_count": 0,
      "outputs": []
    },
    {
      "cell_type": "code",
      "metadata": {
        "id": "YdieuNaICBqo",
        "colab_type": "code",
        "colab": {}
      },
      "source": [
        "##############  GRADIENT "
      ],
      "execution_count": 0,
      "outputs": []
    },
    {
      "cell_type": "code",
      "metadata": {
        "id": "A72uEQ4Xso-0",
        "colab_type": "code",
        "cellView": "both",
        "colab": {}
      },
      "source": [
        "#@title\n",
        "def gradient(f, varlist):\n",
        "    grad = [diff(f, var) for var in varlist]\n",
        "    return grad        "
      ],
      "execution_count": 0,
      "outputs": []
    },
    {
      "cell_type": "code",
      "metadata": {
        "id": "cZKqc2FUCIAI",
        "colab_type": "code",
        "colab": {}
      },
      "source": [
        "##############  JACOBI "
      ],
      "execution_count": 0,
      "outputs": []
    },
    {
      "cell_type": "code",
      "metadata": {
        "id": "ZPJbB20wLl4C",
        "colab_type": "code",
        "cellView": "both",
        "colab": {}
      },
      "source": [
        "#@title\n",
        "def jacobi(funclist, varlist):\n",
        "    X = Matrix(funclist)\n",
        "    Y = Matrix(varlist)\n",
        "    return X.jacobian(Y)"
      ],
      "execution_count": 0,
      "outputs": []
    },
    {
      "cell_type": "markdown",
      "metadata": {
        "id": "laFoxSf1EXIo",
        "colab_type": "text"
      },
      "source": [
        "# Table of Contents"
      ]
    },
    {
      "cell_type": "markdown",
      "metadata": {
        "collapsed": true,
        "id": "fs-pYKHiSWWf",
        "colab_type": "text"
      },
      "source": [
        "# Szélsőérték számítás"
      ]
    },
    {
      "cell_type": "markdown",
      "metadata": {
        "id": "FNTO7nCFSWWf",
        "colab_type": "text"
      },
      "source": [
        "<div class=\"exercises\">\n",
        "Legyen $U\\subset\\mathbf{R}^n$ nyílt halmaz, $\\mathbf{x}_0\\in U$, $f:U\\to\\mathbf{R}$ legalább 2-szer (folytonosan) differenciálható függvény. Ekkor\n",
        "$$\n",
        "f(\\mathbf{x})=f(\\mathbf{x}_0)+\\langle f'(\\mathbf{x}_0), \\mathbf{x}-\\mathbf{x}_0 \\rangle+\n",
        "\\frac{1}{2}\\langle \\mathbf{x}-\\mathbf{x}_0, f''(\\mathbf{x}_0)(\\mathbf{x}-\\mathbf{x}_0)  \\rangle +\\ldots.\n",
        "$$\n",
        "Ha $f$-nek szélsőértéke van $\\mathbf{x}_0$-ban, akkor $f'(\\mathbf{x}_0)=\\mathbf{0}$ és a fenti egyenlet \n",
        "így alakul\n",
        "$$\n",
        "f(\\mathbf{x})=f(\\mathbf{x}_0)+\n",
        "\\frac{1}{2}\\langle \\mathbf{x}-\\mathbf{x}_0, f''(\\mathbf{x}_0)(\\mathbf{x}-\\mathbf{x}_0)  \\rangle +\\ldots.\n",
        "$$\n",
        "Tehát $f$ szélsőértékének jellege, $(\\min, \\max)$, a $\\langle \\mathbf{x}-\\mathbf{x}_0, f''(\\mathbf{x}_0)(\\mathbf{x}-\\mathbf{x}_0)  \\rangle$ kifejezés előjelén múlik. \n",
        "</div>\n",
        "Itt $f''(\\mathbf{x}_0)$ az úgynevezett Hesse mátrix,\n",
        "$$\n",
        "f''(\\mathbf{x}_0)=\\left[D_{i,j}f(x_0) \\right]_{i,j=1,n}.\n",
        "$$\n",
        "Mivel $D_{i,j}f(x_0)=D_{j,i}f(x_0)$, ezért a Hesse mátrix szimmetrikus. "
      ]
    },
    {
      "cell_type": "markdown",
      "metadata": {
        "id": "fAFA-x0Ni-Aw",
        "colab_type": "text"
      },
      "source": [
        "## Tétel (Sylvester kritérium). \n",
        "Legyen $A\\,$ $n\\times n$-es szimmetrikus mátrix, \n",
        "$$ \n",
        "A^{(k)}=\n",
        "\\left[\n",
        "\\begin{array}{cccc}\n",
        "  a_{11} & a_{12} & \\dots & a_{1k} \\\\\n",
        "  a_{21} & a_{22} & \\dots & a_{2k} \\\\\n",
        "  \\vdots & \\vdots & \\ddots & \\vdots \\\\\n",
        "  a_{k1} & a_{k2} & \\dots & a_{kk} \\\\\n",
        "\\end{array}\n",
        "\\right] ,\n",
        "$$\n",
        "$\\Delta_k:=\\det\\left(A^{(k)} \\right)$. \n",
        "\n",
        "Ekkor \n",
        "* $A\\,$ pozitív definit $\\Longleftrightarrow$ $\\Delta_1>0,\\,\\Delta_2>0,\\ldots,\\Delta_n>0$.\n",
        "* $A\\,$ negatív definit $\\Longleftrightarrow$ $(-1)^1\\Delta_1>0,\\,(-1)^2\\Delta_2>0,\\ldots,(-1)^n\\Delta_n>0$.\n",
        "* $A\\,$ indefinit, ha az első $\\Delta_k$ amelyik az előző kettő előjel sorozatot elrontja, nem a megfelelő előjelű.\n",
        "* $A\\,$ pozitív szemidefinit vagy negatív szemidefinit vagy indefinit, ha az első $\\Delta_k$ amelyik az előző kettő előjel sorozatot elrontja $0$.\n",
        "\n",
        "Megjegyzés 1. A tétel pontos.\n",
        "\n",
        "Megjegyzés 2. \n",
        "* $A\\,$ pozitív definit $\\Longleftrightarrow$ minden sajátértéke pozitív.\n",
        "* $A\\,$ negatív definit $\\Longleftrightarrow$ minden sajátértéke negatív.\n",
        "* Ha $A\\,$-nak van pozitív és negatív sajátértéke, akkor indefinit."
      ]
    },
    {
      "cell_type": "code",
      "metadata": {
        "id": "2qT1qH0hVfur",
        "colab_type": "code",
        "outputId": "ce90f721-8e17-47a8-8b5e-eba0b3b5cbd6",
        "colab": {
          "base_uri": "https://localhost:8080/",
          "height": 16
        }
      },
      "source": [
        "%%html\n",
        "<script src=\"https://cdn.rawgit.com/parente/4c3e6936d0d7a46fd071/raw/65b816fb9bdd3c28b4ddf3af602bfd6015486383/code_toggle.js\"></script>"
      ],
      "execution_count": 0,
      "outputs": [
        {
          "output_type": "display_data",
          "data": {
            "text/html": [
              "<script src=\"https://cdn.rawgit.com/parente/4c3e6936d0d7a46fd071/raw/65b816fb9bdd3c28b4ddf3af602bfd6015486383/code_toggle.js\"></script>"
            ],
            "text/plain": [
              "<IPython.core.display.HTML object>"
            ]
          },
          "metadata": {
            "tags": []
          }
        }
      ]
    }
  ]
}