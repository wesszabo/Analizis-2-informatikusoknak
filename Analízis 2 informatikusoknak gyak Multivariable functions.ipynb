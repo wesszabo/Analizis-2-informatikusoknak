{
 "cells": [
  {
   "cell_type": "markdown",
   "metadata": {
    "hide_input": false,
    "toc": "true"
   },
   "source": [
    "# Table of Contents\n",
    " <p><div class=\"lev1 toc-item\"><a href=\"#Differenciálszámítás\" data-toc-modified-id=\"Differenciálszámítás-1\"><span class=\"toc-item-num\">1&nbsp;&nbsp;</span>Differenciálszámítás</a></div><div class=\"lev2 toc-item\"><a href=\"#Határérték\" data-toc-modified-id=\"Határérték-11\"><span class=\"toc-item-num\">1.1&nbsp;&nbsp;</span>Határérték</a></div><div class=\"lev2 toc-item\"><a href=\"#Deriválás\" data-toc-modified-id=\"Deriválás-12\"><span class=\"toc-item-num\">1.2&nbsp;&nbsp;</span>Deriválás</a></div><div class=\"lev2 toc-item\"><a href=\"#Parciális-deriválás\" data-toc-modified-id=\"Parciális-deriválás-13\"><span class=\"toc-item-num\">1.3&nbsp;&nbsp;</span>Parciális deriválás</a></div>"
   ]
  },
  {
   "cell_type": "markdown",
   "metadata": {},
   "source": [
    "<p style=\"text-align: center; font-family: 'Times New Roman'; font-size:3em; font-style:bold\">\n",
    "Analízis 2 informatikusoknak</p><br>\n",
    "<p style=\"text-align: center; font-family: 'Times New Roman'; font-size:1.5em; font-style:bold\">(gyakorlat)</p><br>"
   ]
  },
  {
   "cell_type": "markdown",
   "metadata": {
    "hide_input": true
   },
   "source": [
    "# Differenciálszámítás"
   ]
  },
  {
   "cell_type": "code",
   "execution_count": 19,
   "metadata": {
    "collapsed": true,
    "hide_input": false,
    "scrolled": true
   },
   "outputs": [],
   "source": [
    "from sympy import *\n",
    "from sympy.physics.vector import *"
   ]
  },
  {
   "cell_type": "code",
   "execution_count": 6,
   "metadata": {
    "collapsed": true,
    "hide_input": false
   },
   "outputs": [],
   "source": [
    "from IPython.display import HTML, Latex"
   ]
  },
  {
   "cell_type": "code",
   "execution_count": 7,
   "metadata": {
    "collapsed": true,
    "hide_input": false,
    "scrolled": true
   },
   "outputs": [],
   "source": [
    "import numpy as np\n",
    "%matplotlib notebook\n",
    "import matplotlib.pyplot as plt\n",
    "from mpl_toolkits import mplot3d"
   ]
  },
  {
   "cell_type": "code",
   "execution_count": 8,
   "metadata": {
    "collapsed": true,
    "scrolled": true
   },
   "outputs": [],
   "source": [
    "init_printing(use_unicode=True) # nice output"
   ]
  },
  {
   "cell_type": "code",
   "execution_count": 9,
   "metadata": {
    "collapsed": true,
    "scrolled": true
   },
   "outputs": [],
   "source": [
    "x, y, z = symbols('x y z')"
   ]
  },
  {
   "cell_type": "code",
   "execution_count": 39,
   "metadata": {
    "collapsed": true,
    "scrolled": true
   },
   "outputs": [],
   "source": [
    "a, a1, a2, a3, m, r, theta = symbols('a a1 a2 a3 m r theta') # parameters"
   ]
  },
  {
   "cell_type": "code",
   "execution_count": 11,
   "metadata": {
    "collapsed": true
   },
   "outputs": [],
   "source": [
    "def surface_show(rectangle):\n",
    "    a = rectangle[0]\n",
    "    b = rectangle[1]\n",
    "    c = rectangle[2]\n",
    "    d = rectangle[3]\n",
    "    xx = np.linspace(a, b, 100)\n",
    "    yy = np.linspace(c, d, 100)\n",
    "    X, Y = np.meshgrid(xx, yy)\n",
    "    Z = f(X, Y)\n",
    "    plt.close()\n",
    "    fig = plt.figure()\n",
    "    ax = plt.axes(projection=\"3d\")\n",
    "    ax.plot_surface(X, Y, Z,rstride=1, cstride=1, cmap=plt.cm.coolwarm, linewidth=0, antialiased=False)\n",
    "    ax.set_xlabel('x')\n",
    "    ax.set_ylabel('y')\n",
    "    ax.set_zlabel('z')\n",
    "    plt.show()"
   ]
  },
  {
   "cell_type": "markdown",
   "metadata": {},
   "source": [
    "## Határérték"
   ]
  },
  {
   "cell_type": "markdown",
   "metadata": {
    "solution2": "hidden",
    "solution2_first": true
   },
   "source": [
    "<div class=\"exercises\">\n",
    "1.) Legyen \n",
    "$$\n",
    "f(x,y):=\\frac{x+y}{x^2-xy+y^2}.\n",
    "$$\n",
    "Ekkor\n",
    "$$\n",
    "\\lim_{(x,y)\\to (\\infty,\\infty)}f(x,y)=?\n",
    "$$\n",
    "</div>   "
   ]
  },
  {
   "cell_type": "code",
   "execution_count": 58,
   "metadata": {
    "collapsed": true,
    "hide_input": true,
    "solution2": "hidden"
   },
   "outputs": [],
   "source": [
    "def f(x,y):\n",
    "    return (x+y)/(x**2-x*y+y**2)\n",
    "\n",
    "surface_show([1, 5, 1, 5])"
   ]
  },
  {
   "cell_type": "markdown",
   "metadata": {
    "solution2": "hidden"
   },
   "source": [
    "<div class=\"solution\">\n",
    "$$\n",
    "0\\leq f(x,y)=\\frac{x+y}{(x-y)^2+xy}\\leq \\frac{x+y}{xy}=\\frac{1}{y}+\\frac{1}{x}\n",
    "$$\n",
    "</div>"
   ]
  },
  {
   "cell_type": "markdown",
   "metadata": {
    "collapsed": true,
    "solution2": "hidden",
    "solution2_first": true
   },
   "source": [
    "<div class=\"exercises\">\n",
    "2.) Legyen\n",
    "$$\n",
    "f(x,y):=\\frac{x^3y}{x^6+y^2}.\n",
    "$$\n",
    "Ekkor\n",
    "$$\n",
    "\\lim_{(x,y)\\to(0,0)}f(x,y)=?\n",
    "$$\n",
    "</div>"
   ]
  },
  {
   "cell_type": "code",
   "execution_count": 57,
   "metadata": {
    "collapsed": true,
    "hide_input": true,
    "solution2": "hidden"
   },
   "outputs": [],
   "source": [
    "def f(x,y):\n",
    "    return (x**3*y)/(x**6+y**2)\n",
    "surface_show([-2, 2, -2, 2])"
   ]
  },
  {
   "cell_type": "code",
   "execution_count": 42,
   "metadata": {
    "solution2": "hidden"
   },
   "outputs": [
    {
     "data": {
      "image/png": "[encoded data removed]",
      "text/latex": [
       "$$\\frac{x^{2}}{x^{4} + 1}$$"
      ],
      "text/plain": [
       "   2  \n",
       "  x   \n",
       "──────\n",
       " 4    \n",
       "x  + 1"
      ]
     },
     "execution_count": 42,
     "metadata": {},
     "output_type": "execute_result"
    }
   ],
   "source": [
    "simplify(f(x, x))"
   ]
  },
  {
   "cell_type": "code",
   "execution_count": 44,
   "metadata": {
    "solution2": "hidden"
   },
   "outputs": [
    {
     "data": {
      "image/png": "[encoded data removed]",
      "text/latex": [
       "$$\\frac{1}{2}$$"
      ],
      "text/plain": [
       "1/2"
      ]
     },
     "execution_count": 44,
     "metadata": {},
     "output_type": "execute_result"
    }
   ],
   "source": [
    "simplify(f(x, x**3))"
   ]
  },
  {
   "cell_type": "markdown",
   "metadata": {
    "scrolled": true,
    "solution2": "hidden",
    "solution2_first": true
   },
   "source": [
    "<div class=\"exercises\">\n",
    "3.) Legyen\n",
    "\\[\n",
    "f(x,y):=\\frac{xy^2}{x^2+y^2}.\n",
    "\\]\n",
    "Ekkor\n",
    "\\[\n",
    "\\lim_{(x,y)\\to(0,0)}f(x,y)=?\n",
    "\\]\n",
    "</div>"
   ]
  },
  {
   "cell_type": "code",
   "execution_count": 56,
   "metadata": {
    "collapsed": true,
    "solution2": "hidden"
   },
   "outputs": [],
   "source": [
    "def f(x,y):\n",
    "    return (x*y**2)/(x**2+y**2)\n",
    "surface_show([-2, 2, -2, 2])"
   ]
  },
  {
   "cell_type": "code",
   "execution_count": 52,
   "metadata": {
    "solution2": "hidden"
   },
   "outputs": [
    {
     "data": {
      "image/png": "[encoded data removed]",
      "text/latex": [
       "$$r \\sin^{2}{\\left (\\theta \\right )} \\cos{\\left (\\theta \\right )}$$"
      ],
      "text/plain": [
       "     2          \n",
       "r⋅sin (θ)⋅cos(θ)"
      ]
     },
     "execution_count": 52,
     "metadata": {},
     "output_type": "execute_result"
    }
   ],
   "source": [
    "simplify(f(r*cos(theta), r*sin(theta)))"
   ]
  },
  {
   "cell_type": "markdown",
   "metadata": {
    "solution2": "hidden",
    "solution2_first": true
   },
   "source": [
    "<div class=\"exercises\">\n",
    "4.) Legyen\n",
    "$$\n",
    "f(x,y):=\\frac{x^2}{x^2+y^3}\n",
    "$$\n",
    "Ekkor\n",
    "$$\n",
    "\\lim_{(x,y)\\to(0,0)}f(x,y)=?\n",
    "$$\n",
    "</div>"
   ]
  },
  {
   "cell_type": "code",
   "execution_count": 60,
   "metadata": {
    "collapsed": true,
    "solution2": "hidden"
   },
   "outputs": [],
   "source": [
    "def f(x,y):\n",
    "    return (x**2)/(x**2+y**3)\n",
    "surface_show([-2, 2, -2, 2])"
   ]
  },
  {
   "cell_type": "code",
   "execution_count": 61,
   "metadata": {
    "solution2": "hidden"
   },
   "outputs": [
    {
     "data": {
      "image/png": "[encoded data removed]",
      "text/latex": [
       "$$\\left ( 1, \\quad 0\\right )$$"
      ],
      "text/plain": [
       "(1, 0)"
      ]
     },
     "execution_count": 61,
     "metadata": {},
     "output_type": "execute_result"
    }
   ],
   "source": [
    "f(x,0), f(0,y)"
   ]
  },
  {
   "cell_type": "markdown",
   "metadata": {
    "solution2": "hidden",
    "solution2_first": true
   },
   "source": [
    "<div class=\"exercises\">\n",
    "5.) Legyen\n",
    "$$\n",
    "f(x,y):=\\frac{(x-1)^2\\ln(x)}{(x-1)^2+y^2}\n",
    "$$\n",
    "Ekkor\n",
    "$$\n",
    "\\lim_{(x,y)\\to(1,0)}f(x,y)=?\n",
    "$$\n",
    "</div>"
   ]
  },
  {
   "cell_type": "code",
   "execution_count": 11,
   "metadata": {
    "collapsed": true,
    "solution2": "hidden"
   },
   "outputs": [],
   "source": [
    "def f(x,y):\n",
    "    return ((x-1)**2*np.log(x))/((x-1)**2+y**2)\n",
    "surface_show([0.5, 2, -1, 1])"
   ]
  },
  {
   "cell_type": "markdown",
   "metadata": {
    "solution2": "hidden"
   },
   "source": [
    "<div class=\"solution\">\n",
    "$$\n",
    "0\\leq \\left|f(x,y)\\right|\\leq \\left|\\ln(x)\\right|.\n",
    "$$\n",
    "</div>"
   ]
  },
  {
   "cell_type": "markdown",
   "metadata": {
    "solution2": "hidden",
    "solution2_first": true
   },
   "source": [
    "<div class=\"exercises\">\n",
    "6.) Legyen\n",
    "$$\n",
    "f(x,y):=\\frac{x^2-xy+y^2}{x^2+y^2}.\n",
    "$$\n",
    "Ekkor\n",
    "$$\n",
    "\\lim_{(x,y)\\to(0,0)}f(x,y)=?\n",
    "$$\n",
    "</div>"
   ]
  },
  {
   "cell_type": "code",
   "execution_count": 12,
   "metadata": {
    "collapsed": true,
    "solution2": "hidden"
   },
   "outputs": [],
   "source": [
    "def f(x,y):\n",
    "    return (x**2-x*y+y**2)/(x**2+y**2)\n",
    "surface_show([-2, 2, -2, 2])"
   ]
  },
  {
   "cell_type": "code",
   "execution_count": 13,
   "metadata": {
    "solution2": "hidden"
   },
   "outputs": [
    {
     "data": {
      "image/png": "[encoded data removed]",
      "text/latex": [
       "$$\\left ( \\frac{1}{2}, \\quad \\frac{3}{2}\\right )$$"
      ],
      "text/plain": [
       "(1/2, 3/2)"
      ]
     },
     "execution_count": 13,
     "metadata": {},
     "output_type": "execute_result"
    }
   ],
   "source": [
    "f(x,x), f(x, -x)"
   ]
  },
  {
   "cell_type": "markdown",
   "metadata": {
    "solution2": "hidden",
    "solution2_first": true
   },
   "source": [
    "<div class=\"exercises\">\n",
    "7.) Legyen\n",
    "$$\n",
    "f(x,y):=\\frac{e^{xy}-1}{y}.\n",
    "$$\n",
    "Ekkor\n",
    "$$\n",
    "\\lim_{(x,y)\\to(0,0)}f(x,y)=?\n",
    "$$\n",
    "</div>"
   ]
  },
  {
   "cell_type": "code",
   "execution_count": 14,
   "metadata": {
    "collapsed": true,
    "solution2": "hidden"
   },
   "outputs": [],
   "source": [
    "def f(x,y):\n",
    "    return (np.exp(x*y)-1)/y\n",
    "surface_show([-2, 2, -2, 2])"
   ]
  },
  {
   "cell_type": "markdown",
   "metadata": {
    "solution2": "hidden"
   },
   "source": [
    "<div class=\"solution\">\n",
    "$$\n",
    "f(x,y)=\\frac{e^{xy}-1}{y}=\\frac{e^{xy}-1}{xy}\\cdot x=0.\n",
    "$$\n",
    "</div>"
   ]
  },
  {
   "cell_type": "markdown",
   "metadata": {
    "solution2": "hidden",
    "solution2_first": true
   },
   "source": [
    "<div class=\"exercises\">\n",
    "8.) Legyen\n",
    "$$\n",
    "f(x,y):=\\frac{x^2+y^2}{\\sqrt{x^2+y^2+4}-2}.\n",
    "$$\n",
    "Ekkor\n",
    "$$\n",
    "\\lim_{(x,y)\\to(0,0)}f(x,y)=?\n",
    "$$\n",
    "</div>"
   ]
  },
  {
   "cell_type": "code",
   "execution_count": 17,
   "metadata": {
    "collapsed": true,
    "solution2": "hidden"
   },
   "outputs": [],
   "source": [
    "def f(x,y):\n",
    "    return (x**2+y**2)/(np.sqrt(x**2+y**2+4)-2)\n",
    "surface_show([-2, 2, -2, 2])"
   ]
  },
  {
   "cell_type": "markdown",
   "metadata": {
    "solution2": "hidden"
   },
   "source": [
    "<div class=\"solution\">\n",
    "$$\n",
    "f(x,y)=\\frac{x^2+y^2}{\\sqrt{x^2+y^2+4}-2}\\cdot \\frac{\\sqrt{x^2+y^2+4}+2}{\\sqrt{x^2+y^2+4}+2}\n",
    "=\\sqrt{x^2+y^2+4}+2.\n",
    "$$\n",
    "</div>"
   ]
  },
  {
   "cell_type": "markdown",
   "metadata": {
    "solution2": "hidden",
    "solution2_first": true
   },
   "source": [
    "<div class=\"exercises\">\n",
    "9.) Legyen\n",
    "$$\n",
    "f(x,y):=(x^2+y^2)^{x^2y^2}.\n",
    "$$\n",
    "Ekkor\n",
    "$$\n",
    "\\lim_{(x,y)\\to(0,0)}f(x,y)=?\n",
    "$$\n",
    "</div>"
   ]
  },
  {
   "cell_type": "code",
   "execution_count": 19,
   "metadata": {
    "collapsed": true,
    "solution2": "hidden"
   },
   "outputs": [],
   "source": [
    "def f(x,y):\n",
    "    return (x**2+y**2)**(x**2*y**2)\n",
    "surface_show([-1, 1, -1, 1])"
   ]
  },
  {
   "cell_type": "markdown",
   "metadata": {
    "solution2": "hidden"
   },
   "source": [
    "<div class=\"solution\">\n",
    "$$\n",
    "\\log\\,f(x,y)=(x^2y^2)\\log(x^2+y^2).\n",
    "$$\n",
    "Legyen\n",
    "$x:=r\\cos(\\varphi)$, $y:=r\\sin(\\varphi)$. Ekkor\n",
    "$$\n",
    "\\log\\,f(x,y)=r^4\\cos^2\\varphi\\sin^2\\varphi\\log(r^2).\n",
    "$$\n",
    "Tudjuk, hogy\n",
    "$$\n",
    "\\lim_{r\\to 0+}r\\log(r)=0.\n",
    "$$\n",
    "</div>"
   ]
  },
  {
   "cell_type": "markdown",
   "metadata": {},
   "source": [
    "## Deriválás"
   ]
  },
  {
   "cell_type": "code",
   "execution_count": 13,
   "metadata": {},
   "outputs": [
    {
     "data": {
      "text/html": [
       "<iframe src=\"https://www.derivative-calculator.net/\" width=900 height=650></iframe>"
      ],
      "text/plain": [
       "<IPython.core.display.HTML object>"
      ]
     },
     "execution_count": 13,
     "metadata": {},
     "output_type": "execute_result"
    }
   ],
   "source": [
    "HTML('<iframe src=\"https://www.derivative-calculator.net/\" width=900 height=650></iframe>')"
   ]
  },
  {
   "cell_type": "code",
   "execution_count": null,
   "metadata": {
    "collapsed": true
   },
   "outputs": [],
   "source": []
  },
  {
   "cell_type": "code",
   "execution_count": null,
   "metadata": {
    "collapsed": true
   },
   "outputs": [],
   "source": []
  },
  {
   "cell_type": "code",
   "execution_count": null,
   "metadata": {
    "collapsed": true
   },
   "outputs": [],
   "source": []
  },
  {
   "cell_type": "code",
   "execution_count": null,
   "metadata": {
    "collapsed": true
   },
   "outputs": [],
   "source": []
  },
  {
   "cell_type": "code",
   "execution_count": null,
   "metadata": {
    "collapsed": true
   },
   "outputs": [],
   "source": []
  },
  {
   "cell_type": "code",
   "execution_count": null,
   "metadata": {
    "collapsed": true
   },
   "outputs": [],
   "source": []
  },
  {
   "cell_type": "code",
   "execution_count": null,
   "metadata": {
    "collapsed": true
   },
   "outputs": [],
   "source": []
  },
  {
   "cell_type": "markdown",
   "metadata": {
    "collapsed": true,
    "scrolled": true,
    "solution2": "shown",
    "solution2_first": true
   },
   "source": [
    "<div class=\"exercises\">\n",
    "1.) Legyen $\\mathbf{r}:=(x,y,z)$, $\\hat{\\mathbf{r}}:=\\dfrac{\\mathbf{r}}{\\left\\Vert\\mathbf{r}\\right\\Vert}$. Legyen \n",
    "$$f(\\mathbf{r}):=\\frac{1}{\\Vert\\mathbf{r}\\Vert}.$$\n",
    "$f'(\\mathbf{r})=?$\n",
    "</div>"
   ]
  },
  {
   "cell_type": "code",
   "execution_count": 38,
   "metadata": {
    "hide_input": false,
    "solution2": "shown"
   },
   "outputs": [
    {
     "data": {
      "image/png": "[encoded data removed]",
      "text/latex": [
       "$$-  \\frac{e_{x}}{\\left(e_{x}^{2} + e_{y}^{2} + e_{z}^{2}\\right)^{\\frac{3}{2}}}\\mathbf{\\hat{e}_x} -  \\frac{e_{y}}{\\left(e_{x}^{2} + e_{y}^{2} + e_{z}^{2}\\right)^{\\frac{3}{2}}}\\mathbf{\\hat{e}_y} -  \\frac{e_{z}}{\\left(e_{x}^{2} + e_{y}^{2} + e_{z}^{2}\\right)^{\\frac{3}{2}}}\\mathbf{\\hat{e}_z}$$"
      ],
      "text/plain": [
       "         -eₓ          \n",
       "──────────────────────\n",
       "                   3/2\n",
       "⎛  2      2      2⎞   \n",
       "⎝eₓ  + e_y  + e_z ⎠    e_x +         -e_y          \n",
       "──────────────────────\n",
       "                   3/2\n",
       "⎛  2      2      2⎞   \n",
       "⎝eₓ  + e_y  + e_z ⎠    e_y +         -e_z          \n",
       "──────────────────────\n",
       "                   3/2\n",
       "⎛  2      2      2⎞   \n",
       "⎝eₓ  + e_y  + e_z ⎠    e_z"
      ]
     },
     "execution_count": 38,
     "metadata": {},
     "output_type": "execute_result"
    }
   ],
   "source": [
    "RF = ReferenceFrame('e')\n",
    "from sympy.physics.vector import gradient\n",
    "scalar_field = 1/(sqrt(RF[0]**2+RF[1]**2+RF[2]**2))\n",
    "gradient(scalar_field, RF)"
   ]
  },
  {
   "cell_type": "markdown",
   "metadata": {
    "solution2": "shown"
   },
   "source": [
    "<div class=\"solution\">\n",
    "Tehát\n",
    "$$\n",
    "f'(\\mathbf{r})=-\\frac{\\mathbf{r}}{(\\left\\Vert\\mathbf{r}\\right\\Vert)^3}.\n",
    "$$\n",
    "</div>"
   ]
  },
  {
   "cell_type": "markdown",
   "metadata": {
    "collapsed": true,
    "scrolled": true
   },
   "source": [
    "<div class=\"exercises\">\n",
    "2.) Legyen $\\mathbf{r}:=(x,y,z)$, $\\hat{\\mathbf{r}}:=\\dfrac{\\mathbf{r}}{\\left\\Vert\\mathbf{r}\\right\\Vert}$. Legyen \n",
    "$$f(\\mathbf{r}):=\\log(\\left\\Vert\\mathbf{r}\\right\\Vert)$$\n",
    "$f'(\\mathbf{r})=?$\n",
    "</div>"
   ]
  },
  {
   "cell_type": "code",
   "execution_count": 30,
   "metadata": {
    "hide_input": true,
    "scrolled": true
   },
   "outputs": [
    {
     "data": {
      "image/png": "[encoded data removed]",
      "text/latex": [
       "$$\\frac{e_{x}}{e_{x}^{2} + e_{y}^{2} + e_{z}^{2}}\\mathbf{\\hat{e}_x} + \\frac{e_{y}}{e_{x}^{2} + e_{y}^{2} + e_{z}^{2}}\\mathbf{\\hat{e}_y} + \\frac{e_{z}}{e_{x}^{2} + e_{y}^{2} + e_{z}^{2}}\\mathbf{\\hat{e}_z}$$"
      ],
      "text/plain": [
       "        eₓ       \n",
       "─────────────────\n",
       "  2      2      2\n",
       "eₓ  + e_y  + e_z  e_x +        e_y       \n",
       "─────────────────\n",
       "  2      2      2\n",
       "eₓ  + e_y  + e_z  e_y +        e_z       \n",
       "─────────────────\n",
       "  2      2      2\n",
       "eₓ  + e_y  + e_z  e_z"
      ]
     },
     "execution_count": 30,
     "metadata": {},
     "output_type": "execute_result"
    }
   ],
   "source": [
    "RF = ReferenceFrame('e')\n",
    "from sympy.physics.vector import gradient\n",
    "scalar_field = log(sqrt(RF[0]**2+RF[1]**2+RF[2]**2))\n",
    "gradient(scalar_field, RF)"
   ]
  },
  {
   "cell_type": "markdown",
   "metadata": {},
   "source": [
    "<div class=\"solution\">\n",
    "Tehát\n",
    "$$\n",
    "f'(\\mathbf{r})=\\frac{\\mathbf{r}}{\\left\\Vert\\mathbf{r}\\right\\Vert^2}.\n",
    "$$\n",
    "</div>"
   ]
  },
  {
   "cell_type": "markdown",
   "metadata": {
    "collapsed": true,
    "scrolled": true
   },
   "source": [
    "<div class=\"exercises\">\n",
    "3.) Legyen $\\mathbf{r}:=(x,y,z)$, $\\mathbf{a}\\in\\mathbf{R}^3$ adott vektor, \n",
    "$\\hat{\\mathbf{r}}:=\\langle\\mathbf{a},\\mathbf{r}\\rangle$. \n",
    "$$f'(\\mathbf{r}):=?$$\n",
    "</div>"
   ]
  },
  {
   "cell_type": "markdown",
   "metadata": {
    "collapsed": true
   },
   "source": [
    "<div class=\"solution\">\n",
    "$$\n",
    "\\begin{align*}\n",
    "f(\\mathbf{r}+\\mathbf{h})-f(\\mathbf{r}) &=\\langle\\mathbf{a},\\mathbf{r}+\\mathbf{h}\\rangle-\\langle\\mathbf{a},\\mathbf{r}\\rangle \\\\\n",
    "&=\\langle\\mathbf{a},\\mathbf{h}\\rangle\n",
    "\\end{align*}\n",
    "$$\n",
    "Tehát\n",
    "$$f'(\\mathbf{r})=\\mathbf{a}.$$\n",
    "</div>"
   ]
  },
  {
   "cell_type": "code",
   "execution_count": null,
   "metadata": {
    "collapsed": true
   },
   "outputs": [],
   "source": []
  },
  {
   "cell_type": "code",
   "execution_count": null,
   "metadata": {
    "collapsed": true
   },
   "outputs": [],
   "source": []
  },
  {
   "cell_type": "code",
   "execution_count": null,
   "metadata": {
    "collapsed": true
   },
   "outputs": [],
   "source": []
  },
  {
   "cell_type": "markdown",
   "metadata": {
    "collapsed": true,
    "scrolled": true,
    "solution2": "hidden",
    "solution2_first": true
   },
   "source": [
    "<div class=\"exercises\">\n",
    "4.) Legyen $\\mathbf{r}:=(x,y,z)$, $\\hat{\\mathbf{r}}:=\\dfrac{\\mathbf{r}}{\\left\\Vert\\mathbf{r}\\right\\Vert}$. Legyen \n",
    "$$f'(\\mathbf{r}):=$$\n",
    "</div>"
   ]
  },
  {
   "cell_type": "code",
   "execution_count": 14,
   "metadata": {
    "hide_input": true,
    "scrolled": true,
    "solution2": "hidden"
   },
   "outputs": [
    {
     "data": {
      "image/png": "[encoded data removed]",
      "text/latex": [
       "$$x \\log{\\left (x \\right )} - x$$"
      ],
      "text/plain": [
       "x⋅log(x) - x"
      ]
     },
     "execution_count": 14,
     "metadata": {},
     "output_type": "execute_result"
    }
   ],
   "source": [
    "integrate(ln(x), x)"
   ]
  },
  {
   "cell_type": "markdown",
   "metadata": {
    "solution2": "hidden",
    "solution2_first": true
   },
   "source": [
    "<div class=\"exercises\">\n",
    "5.) Legyen $\\mathbf{r}:=(x,y,z)$, $\\hat{\\mathbf{r}}:=\\dfrac{\\mathbf{r}}{\\left\\Vert\\mathbf{r}\\right\\Vert}$. Legyen \n",
    "$$f(\\mathbf{r}):=$$\n",
    "</div>"
   ]
  },
  {
   "cell_type": "code",
   "execution_count": 16,
   "metadata": {
    "hide_input": true,
    "solution2": "hidden"
   },
   "outputs": [
    {
     "data": {
      "image/png": "[encoded data removed]",
      "text/latex": [
       "$$x \\operatorname{atan}{\\left (x \\right )} - \\frac{1}{2} \\log{\\left (x^{2} + 1 \\right )}$$"
      ],
      "text/plain": [
       "               ⎛ 2    ⎞\n",
       "            log⎝x  + 1⎠\n",
       "x⋅atan(x) - ───────────\n",
       "                 2     "
      ]
     },
     "execution_count": 16,
     "metadata": {},
     "output_type": "execute_result"
    }
   ],
   "source": [
    "integrate(atan(x), x)"
   ]
  },
  {
   "cell_type": "markdown",
   "metadata": {},
   "source": [
    "## Parciális deriválás"
   ]
  },
  {
   "cell_type": "markdown",
   "metadata": {
    "solution2": "hidden",
    "solution2_first": true
   },
   "source": [
    "<div class=\"exercises\">\n",
    "1.) Legyen $\\mathbf{r}:=(x,y,z)$, $\\hat{\\mathbf{r}}:=\\dfrac{\\mathbf{r}}{\\left\\Vert\\mathbf{r}\\right\\Vert}$. Legyen \n",
    "$$f(\\mathbf{r}):=$$\n",
    "</div>"
   ]
  },
  {
   "cell_type": "code",
   "execution_count": 17,
   "metadata": {
    "hide_input": true,
    "solution2": "hidden"
   },
   "outputs": [
    {
     "data": {
      "image/png": "[encoded data removed]",
      "text/latex": [
       "$$\\frac{x}{2} \\sqrt{- x^{2} + 1} + \\frac{1}{2} \\operatorname{asin}{\\left (x \\right )}$$"
      ],
      "text/plain": [
       "     __________          \n",
       "    ╱    2               \n",
       "x⋅╲╱  - x  + 1    asin(x)\n",
       "─────────────── + ───────\n",
       "       2             2   "
      ]
     },
     "execution_count": 17,
     "metadata": {},
     "output_type": "execute_result"
    }
   ],
   "source": [
    "integrate(sqrt(1-x**2), x)"
   ]
  },
  {
   "cell_type": "code",
   "execution_count": 30,
   "metadata": {
    "hide_input": true,
    "scrolled": false,
    "solution2": "hidden"
   },
   "outputs": [
    {
     "data": {
      "image/png": "[encoded data removed]",
      "text/latex": [
       "$$- \\frac{x + 2}{2 x^{2} + 2} - \\frac{1}{4 x + 4} + \\frac{3}{4 x - 4}$$"
      ],
      "text/plain": [
       "    x + 2          1           3    \n",
       "- ────────── - ───────── + ─────────\n",
       "    ⎛ 2    ⎞   4⋅(x + 1)   4⋅(x - 1)\n",
       "  2⋅⎝x  + 1⎠                        "
      ]
     },
     "execution_count": 30,
     "metadata": {},
     "output_type": "execute_result"
    }
   ],
   "source": [
    "apart((x+2)/(x**4-1))"
   ]
  },
  {
   "cell_type": "code",
   "execution_count": 31,
   "metadata": {
    "hide_input": true,
    "scrolled": false,
    "solution2": "hidden"
   },
   "outputs": [
    {
     "data": {
      "image/png": "[encoded data removed]",
      "text/latex": [
       "$$\\frac{3}{4} \\log{\\left (x - 1 \\right )} - \\frac{1}{4} \\log{\\left (x + 1 \\right )} - \\frac{1}{4} \\log{\\left (x^{2} + 1 \\right )} - \\operatorname{atan}{\\left (x \\right )}$$"
      ],
      "text/plain": [
       "                               ⎛ 2    ⎞          \n",
       "3⋅log(x - 1)   log(x + 1)   log⎝x  + 1⎠          \n",
       "──────────── - ────────── - ─────────── - atan(x)\n",
       "     4             4             4               "
      ]
     },
     "execution_count": 31,
     "metadata": {},
     "output_type": "execute_result"
    }
   ],
   "source": [
    "integrate((x+2)/(x**4-1), x)"
   ]
  },
  {
   "cell_type": "code",
   "execution_count": 28,
   "metadata": {
    "hide_input": true,
    "solution2": "hidden"
   },
   "outputs": [
    {
     "data": {
      "image/png": "[encoded data removed]",
      "text/latex": [
       "$$y{\\left (x \\right )} = C_{2} \\cos{\\left (2 x \\right )} + \\left(C_{1} + \\frac{x}{4}\\right) \\sin{\\left (2 x \\right )}$$"
      ],
      "text/plain": [
       "                     ⎛     x⎞         \n",
       "y(x) = C₂⋅cos(2⋅x) + ⎜C₁ + ─⎟⋅sin(2⋅x)\n",
       "                     ⎝     4⎠         "
      ]
     },
     "execution_count": 28,
     "metadata": {},
     "output_type": "execute_result"
    }
   ],
   "source": [
    "dsolve(Eq(ddy+4*y, cos(2*x)), y)"
   ]
  },
  {
   "cell_type": "code",
   "execution_count": 20,
   "metadata": {
    "hide_input": false,
    "scrolled": false
   },
   "outputs": [
    {
     "data": {
      "text/html": [
       "<style>\n",
       ".output_subarea {\n",
       "    background-color: cornsilk;\n",
       "    border: 1px solid forestgreen;\n",
       "    font-style:bold;\n",
       "}\n",
       "\n",
       "div.exercises {\n",
       "    text-align: left; \n",
       "    font-family: 'Times New Roman'; \n",
       "    font-size:1.5em; \n",
       "    font-style:bold;\n",
       "    border: 1px solid red;\n",
       "    padding: 7px 3px 7px 8px;\n",
       "    background-color: whitesmoke;\n",
       "}\n",
       "\n",
       "div.solution {\n",
       "    font-size: 125%;\n",
       "    background-color: cornsilk;\n",
       "    border: 1px solid forestgreen;\n",
       "    font-style:bold;\n",
       "}\n",
       "\n",
       "ol {    \n",
       "    padding: 15px;\n",
       "}\n",
       "\n",
       "ol li {\n",
       "    padding: 5px;\n",
       "    margin-left: 25px;\n",
       "}\n",
       "\n",
       "ol ol li { \n",
       "    list-style-type: lower-alpha;\n",
       "}\n",
       "\n",
       ".myp {\n",
       "    font-family: 'Times New Roman'; \n",
       "    font-size:1.4em; \n",
       "    font-style:bold;\n",
       "    border: 1px solid black;\n",
       "    padding: 5px 3px 5px 5px;\n",
       "}\n",
       "</style>"
      ],
      "text/plain": [
       "<IPython.core.display.HTML object>"
      ]
     },
     "metadata": {},
     "output_type": "display_data"
    }
   ],
   "source": [
    "%%html\n",
    "<style>\n",
    ".output_subarea {\n",
    "    background-color: cornsilk;\n",
    "    border: 1px solid forestgreen;\n",
    "    font-style:bold;\n",
    "}\n",
    "\n",
    "div.exercises {\n",
    "    text-align: left; \n",
    "    font-family: 'Times New Roman'; \n",
    "    font-size:1.5em; \n",
    "    font-style:bold;\n",
    "    border: 1px solid red;\n",
    "    padding: 7px 3px 7px 8px;\n",
    "    background-color: whitesmoke;\n",
    "}\n",
    "\n",
    "div.solution {\n",
    "    font-size: 125%;\n",
    "    background-color: cornsilk;\n",
    "    border: 1px solid forestgreen;\n",
    "    font-style:bold;\n",
    "}\n",
    "\n",
    "ol {    \n",
    "    padding: 15px;\n",
    "}\n",
    "\n",
    "ol li {\n",
    "    padding: 5px;\n",
    "    margin-left: 25px;\n",
    "}\n",
    "\n",
    "ol ol li { \n",
    "    list-style-type: lower-alpha;\n",
    "}\n",
    "\n",
    ".myp {\n",
    "    font-family: 'Times New Roman'; \n",
    "    font-size:1.4em; \n",
    "    font-style:bold;\n",
    "    border: 1px solid black;\n",
    "    padding: 5px 3px 5px 5px;\n",
    "}\n",
    "</style>"
   ]
  },
  {
   "cell_type": "code",
   "execution_count": 3,
   "metadata": {
    "hide_input": false,
    "scrolled": true
   },
   "outputs": [
    {
     "data": {
      "text/html": [
       "<script src=\"https://cdn.rawgit.com/parente/4c3e6936d0d7a46fd071/raw/65b816fb9bdd3c28b4ddf3af602bfd6015486383/code_toggle.js\"></script>"
      ],
      "text/plain": [
       "<IPython.core.display.HTML object>"
      ]
     },
     "metadata": {},
     "output_type": "display_data"
    }
   ],
   "source": [
    "%%html\n",
    "<script src=\"https://cdn.rawgit.com/parente/4c3e6936d0d7a46fd071/raw/65b816fb9bdd3c28b4ddf3af602bfd6015486383/code_toggle.js\"></script>"
   ]
  }
 ],
 "metadata": {
  "hide_input": false,
  "kernelspec": {
   "display_name": "Python 3",
   "language": "python",
   "name": "python3"
  },
  "language_info": {
   "codemirror_mode": {
    "name": "ipython",
    "version": 3
   },
   "file_extension": ".py",
   "mimetype": "text/x-python",
   "name": "python",
   "nbconvert_exporter": "python",
   "pygments_lexer": "ipython3",
   "version": "3.6.1"
  },
  "latex_envs": {
   "LaTeX_envs_menu_present": true,
   "autocomplete": true,
   "bibliofile": "biblio.bib",
   "cite_by": "apalike",
   "current_citInitial": 1,
   "eqLabelWithNumbers": true,
   "eqNumInitial": 1,
   "hotkeys": {
    "equation": "Ctrl-E",
    "itemize": "Ctrl-I"
   },
   "labels_anchors": false,
   "latex_user_defs": false,
   "report_style_numbering": false,
   "user_envs_cfg": false
  },
  "toc": {
   "colors": {
    "hover_highlight": "#DAA520",
    "navigate_num": "#0000ff",
    "navigate_text": "#0000ff",
    "running_highlight": "#FF0000",
    "selected_highlight": "#FFD700",
    "sidebar_border": "#EEEEEE",
    "wrapper_background": "#FFFFFF"
   },
   "moveMenuLeft": true,
   "nav_menu": {
    "height": "101px",
    "width": "252px"
   },
   "navigate_menu": true,
   "number_sections": true,
   "sideBar": true,
   "threshold": 4,
   "toc_cell": true,
   "toc_position": {
    "height": "808px",
    "left": "0px",
    "right": "1162.34px",
    "top": "106.997px",
    "width": "244px"
   },
   "toc_section_display": "block",
   "toc_window_display": false,
   "widenNotebook": false
  }
 },
 "nbformat": 4,
 "nbformat_minor": 2
}
